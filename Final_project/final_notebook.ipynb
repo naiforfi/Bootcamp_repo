{
 "cells": [
  {
   "cell_type": "markdown",
   "id": "b92e2986",
   "metadata": {},
   "source": [
    "This project is aim to use historical weather data like temperature, humidity, windspeed, visibility and the pressure, and predict whater was rained or not. the target is extracted from `weather` Since the purpose is to predict the rain only.\n"
   ]
  },
  {
   "cell_type": "markdown",
   "id": "77304a09",
   "metadata": {},
   "source": [
    "# 1. Import the libraries "
   ]
  },
  {
   "cell_type": "code",
   "execution_count": 1,
   "id": "8a6e4c1b",
   "metadata": {},
   "outputs": [],
   "source": [
    "import pandas as pd\n",
    "import numpy as np\n",
    "import matplotlib.pyplot as  plt\n",
    "import seaborn as sns\n",
    "from datetime import timedelta"
   ]
  },
  {
   "cell_type": "markdown",
   "id": "4b45624a",
   "metadata": {},
   "source": [
    "# 2. Loading the data and data cleaning"
   ]
  },
  {
   "cell_type": "code",
   "execution_count": 2,
   "id": "bb113127",
   "metadata": {},
   "outputs": [
    {
     "name": "stdout",
     "output_type": "stream",
     "text": [
      "/Users/ALORFI/Documents/bootcamp/Project/Final_project\r\n"
     ]
    }
   ],
   "source": [
    "! pwd"
   ]
  },
  {
   "cell_type": "code",
   "execution_count": 3,
   "id": "bfadaa9c",
   "metadata": {},
   "outputs": [
    {
     "data": {
      "text/plain": [
       "(249023, 15)"
      ]
     },
     "execution_count": 3,
     "metadata": {},
     "output_type": "execute_result"
    }
   ],
   "source": [
    "df = pd.read_csv('../../Project/dataset/weather-sa-2017-2019-clean.csv')\n",
    "df.shape"
   ]
  },
  {
   "cell_type": "code",
   "execution_count": 4,
   "id": "9e49a24d",
   "metadata": {},
   "outputs": [
    {
     "data": {
      "text/html": [
       "<div>\n",
       "<style scoped>\n",
       "    .dataframe tbody tr th:only-of-type {\n",
       "        vertical-align: middle;\n",
       "    }\n",
       "\n",
       "    .dataframe tbody tr th {\n",
       "        vertical-align: top;\n",
       "    }\n",
       "\n",
       "    .dataframe thead th {\n",
       "        text-align: right;\n",
       "    }\n",
       "</style>\n",
       "<table border=\"1\" class=\"dataframe\">\n",
       "  <thead>\n",
       "    <tr style=\"text-align: right;\">\n",
       "      <th></th>\n",
       "      <th>Unnamed: 0</th>\n",
       "      <th>city</th>\n",
       "      <th>date</th>\n",
       "      <th>time</th>\n",
       "      <th>year</th>\n",
       "      <th>month</th>\n",
       "      <th>day</th>\n",
       "      <th>hour</th>\n",
       "      <th>minute</th>\n",
       "      <th>weather</th>\n",
       "      <th>temp</th>\n",
       "      <th>wind</th>\n",
       "      <th>humidity</th>\n",
       "      <th>barometer</th>\n",
       "      <th>visibility</th>\n",
       "    </tr>\n",
       "  </thead>\n",
       "  <tbody>\n",
       "    <tr>\n",
       "      <th>0</th>\n",
       "      <td>0</td>\n",
       "      <td>Qassim</td>\n",
       "      <td>1 January 2017</td>\n",
       "      <td>00:00</td>\n",
       "      <td>2017</td>\n",
       "      <td>1</td>\n",
       "      <td>1</td>\n",
       "      <td>24</td>\n",
       "      <td>0</td>\n",
       "      <td>Clear</td>\n",
       "      <td>17</td>\n",
       "      <td>11</td>\n",
       "      <td>64%</td>\n",
       "      <td>1018.0</td>\n",
       "      <td>16</td>\n",
       "    </tr>\n",
       "    <tr>\n",
       "      <th>1</th>\n",
       "      <td>1</td>\n",
       "      <td>Qassim</td>\n",
       "      <td>1 January 2017</td>\n",
       "      <td>01:00</td>\n",
       "      <td>2017</td>\n",
       "      <td>1</td>\n",
       "      <td>1</td>\n",
       "      <td>1</td>\n",
       "      <td>0</td>\n",
       "      <td>Clear</td>\n",
       "      <td>17</td>\n",
       "      <td>6</td>\n",
       "      <td>64%</td>\n",
       "      <td>1018.0</td>\n",
       "      <td>16</td>\n",
       "    </tr>\n",
       "    <tr>\n",
       "      <th>2</th>\n",
       "      <td>2</td>\n",
       "      <td>Qassim</td>\n",
       "      <td>1 January 2017</td>\n",
       "      <td>03:00</td>\n",
       "      <td>2017</td>\n",
       "      <td>1</td>\n",
       "      <td>1</td>\n",
       "      <td>3</td>\n",
       "      <td>0</td>\n",
       "      <td>Clear</td>\n",
       "      <td>15</td>\n",
       "      <td>11</td>\n",
       "      <td>72%</td>\n",
       "      <td>1019.0</td>\n",
       "      <td>16</td>\n",
       "    </tr>\n",
       "    <tr>\n",
       "      <th>3</th>\n",
       "      <td>3</td>\n",
       "      <td>Qassim</td>\n",
       "      <td>1 January 2017</td>\n",
       "      <td>04:00</td>\n",
       "      <td>2017</td>\n",
       "      <td>1</td>\n",
       "      <td>1</td>\n",
       "      <td>4</td>\n",
       "      <td>0</td>\n",
       "      <td>Clear</td>\n",
       "      <td>15</td>\n",
       "      <td>11</td>\n",
       "      <td>72%</td>\n",
       "      <td>1019.0</td>\n",
       "      <td>16</td>\n",
       "    </tr>\n",
       "    <tr>\n",
       "      <th>4</th>\n",
       "      <td>4</td>\n",
       "      <td>Qassim</td>\n",
       "      <td>1 January 2017</td>\n",
       "      <td>05:00</td>\n",
       "      <td>2017</td>\n",
       "      <td>1</td>\n",
       "      <td>1</td>\n",
       "      <td>5</td>\n",
       "      <td>0</td>\n",
       "      <td>Clear</td>\n",
       "      <td>15</td>\n",
       "      <td>9</td>\n",
       "      <td>72%</td>\n",
       "      <td>1019.0</td>\n",
       "      <td>16</td>\n",
       "    </tr>\n",
       "  </tbody>\n",
       "</table>\n",
       "</div>"
      ],
      "text/plain": [
       "   Unnamed: 0    city            date   time  year  month  day  hour  minute  \\\n",
       "0           0  Qassim  1 January 2017  00:00  2017      1    1    24       0   \n",
       "1           1  Qassim  1 January 2017  01:00  2017      1    1     1       0   \n",
       "2           2  Qassim  1 January 2017  03:00  2017      1    1     3       0   \n",
       "3           3  Qassim  1 January 2017  04:00  2017      1    1     4       0   \n",
       "4           4  Qassim  1 January 2017  05:00  2017      1    1     5       0   \n",
       "\n",
       "  weather  temp  wind humidity  barometer  visibility  \n",
       "0  Clear     17    11      64%     1018.0          16  \n",
       "1  Clear     17     6      64%     1018.0          16  \n",
       "2  Clear     15    11      72%     1019.0          16  \n",
       "3  Clear     15    11      72%     1019.0          16  \n",
       "4  Clear     15     9      72%     1019.0          16  "
      ]
     },
     "execution_count": 4,
     "metadata": {},
     "output_type": "execute_result"
    }
   ],
   "source": [
    "df.head()"
   ]
  },
  {
   "cell_type": "code",
   "execution_count": 5,
   "id": "ba23bff3",
   "metadata": {},
   "outputs": [
    {
     "name": "stdout",
     "output_type": "stream",
     "text": [
      "<class 'pandas.core.frame.DataFrame'>\n",
      "RangeIndex: 249023 entries, 0 to 249022\n",
      "Data columns (total 15 columns):\n",
      " #   Column      Non-Null Count   Dtype  \n",
      "---  ------      --------------   -----  \n",
      " 0   Unnamed: 0  249023 non-null  int64  \n",
      " 1   city        249023 non-null  object \n",
      " 2   date        249023 non-null  object \n",
      " 3   time        249023 non-null  object \n",
      " 4   year        249023 non-null  int64  \n",
      " 5   month       249023 non-null  int64  \n",
      " 6   day         249023 non-null  int64  \n",
      " 7   hour        249023 non-null  int64  \n",
      " 8   minute      249023 non-null  int64  \n",
      " 9   weather     249023 non-null  object \n",
      " 10  temp        249023 non-null  int64  \n",
      " 11  wind        249023 non-null  int64  \n",
      " 12  humidity    249006 non-null  object \n",
      " 13  barometer   248951 non-null  float64\n",
      " 14  visibility  249023 non-null  int64  \n",
      "dtypes: float64(1), int64(9), object(5)\n",
      "memory usage: 28.5+ MB\n"
     ]
    }
   ],
   "source": [
    "df.info()"
   ]
  },
  {
   "cell_type": "markdown",
   "id": "870b1976",
   "metadata": {},
   "source": [
    "It show that we have 10 Numerical with int and float variable and 5 Categorical variable with object datatype"
   ]
  },
  {
   "cell_type": "markdown",
   "id": "5824ee0e",
   "metadata": {},
   "source": [
    "### 2.1 Lets Drop irrelated and duplicated features"
   ]
  },
  {
   "cell_type": "code",
   "execution_count": 6,
   "id": "9a8e3125",
   "metadata": {},
   "outputs": [],
   "source": [
    "# Unnamed: 0 is irrlevent \n",
    "# date and time are duplicated features \n",
    "delete_col =['Unnamed: 0','date','time' ]\n",
    "df.drop(delete_col, axis =1 , inplace =True)"
   ]
  },
  {
   "cell_type": "code",
   "execution_count": 7,
   "id": "0423db1c",
   "metadata": {},
   "outputs": [],
   "source": [
    "#replace space to NULL if found in the datafram\n",
    "df = df.replace(\" \", np.nan).replace(\"N/A\", np.nan ).replace(\"NA\", np.nan).replace(\"\", np.nan)"
   ]
  },
  {
   "cell_type": "markdown",
   "id": "98d9e24b",
   "metadata": {},
   "source": [
    "### 2.2 Lets convert feature `humidity` to Numerical"
   ]
  },
  {
   "cell_type": "code",
   "execution_count": 8,
   "id": "24d49b05",
   "metadata": {},
   "outputs": [],
   "source": [
    "df['humidity'] = df['humidity'].str.replace('%',' ').astype('float')\n"
   ]
  },
  {
   "cell_type": "code",
   "execution_count": 9,
   "id": "1f5456cb",
   "metadata": {},
   "outputs": [
    {
     "data": {
      "text/plain": [
       "city           0\n",
       "year           0\n",
       "month          0\n",
       "day            0\n",
       "hour           0\n",
       "minute         0\n",
       "weather        0\n",
       "temp           0\n",
       "wind           0\n",
       "humidity      17\n",
       "barometer     72\n",
       "visibility     0\n",
       "dtype: int64"
      ]
     },
     "execution_count": 9,
     "metadata": {},
     "output_type": "execute_result"
    }
   ],
   "source": [
    "df.isnull().sum()"
   ]
  },
  {
   "cell_type": "markdown",
   "id": "43a633e8",
   "metadata": {},
   "source": [
    "We have 17 missing values in `humidity`\n",
    "and 71 missing value in `barometer`"
   ]
  },
  {
   "cell_type": "markdown",
   "id": "f7f9196c",
   "metadata": {},
   "source": [
    "### 2.3 Dealing with missing values"
   ]
  },
  {
   "cell_type": "markdown",
   "id": "2c065363",
   "metadata": {},
   "source": [
    "#### I decide to get means of the humidity and barometer per each city to be replaced with missing values.\n"
   ]
  },
  {
   "cell_type": "markdown",
   "id": "cf2a0940",
   "metadata": {},
   "source": [
    "checking the means for `humidity` and `barometer` for each city."
   ]
  },
  {
   "cell_type": "code",
   "execution_count": 10,
   "id": "b309ef70",
   "metadata": {},
   "outputs": [
    {
     "data": {
      "text/html": [
       "<div>\n",
       "<style scoped>\n",
       "    .dataframe tbody tr th:only-of-type {\n",
       "        vertical-align: middle;\n",
       "    }\n",
       "\n",
       "    .dataframe tbody tr th {\n",
       "        vertical-align: top;\n",
       "    }\n",
       "\n",
       "    .dataframe thead th {\n",
       "        text-align: right;\n",
       "    }\n",
       "</style>\n",
       "<table border=\"1\" class=\"dataframe\">\n",
       "  <thead>\n",
       "    <tr style=\"text-align: right;\">\n",
       "      <th></th>\n",
       "      <th>city</th>\n",
       "      <th>humidity</th>\n",
       "      <th>barometer</th>\n",
       "    </tr>\n",
       "  </thead>\n",
       "  <tbody>\n",
       "    <tr>\n",
       "      <th>0</th>\n",
       "      <td>Assir</td>\n",
       "      <td>47.590154</td>\n",
       "      <td>1023.498147</td>\n",
       "    </tr>\n",
       "    <tr>\n",
       "      <th>1</th>\n",
       "      <td>Baha</td>\n",
       "      <td>38.722982</td>\n",
       "      <td>1019.012376</td>\n",
       "    </tr>\n",
       "    <tr>\n",
       "      <th>2</th>\n",
       "      <td>EP</td>\n",
       "      <td>45.092703</td>\n",
       "      <td>1008.609077</td>\n",
       "    </tr>\n",
       "    <tr>\n",
       "      <th>3</th>\n",
       "      <td>Hail</td>\n",
       "      <td>41.536087</td>\n",
       "      <td>1013.528736</td>\n",
       "    </tr>\n",
       "    <tr>\n",
       "      <th>4</th>\n",
       "      <td>Jawf</td>\n",
       "      <td>30.500442</td>\n",
       "      <td>1015.505283</td>\n",
       "    </tr>\n",
       "    <tr>\n",
       "      <th>5</th>\n",
       "      <td>Jazan</td>\n",
       "      <td>45.803066</td>\n",
       "      <td>1023.087145</td>\n",
       "    </tr>\n",
       "    <tr>\n",
       "      <th>6</th>\n",
       "      <td>Madina</td>\n",
       "      <td>19.971600</td>\n",
       "      <td>1014.141254</td>\n",
       "    </tr>\n",
       "    <tr>\n",
       "      <th>7</th>\n",
       "      <td>Mecca</td>\n",
       "      <td>54.158772</td>\n",
       "      <td>1008.713919</td>\n",
       "    </tr>\n",
       "    <tr>\n",
       "      <th>8</th>\n",
       "      <td>Najran</td>\n",
       "      <td>45.953645</td>\n",
       "      <td>1023.093818</td>\n",
       "    </tr>\n",
       "    <tr>\n",
       "      <th>9</th>\n",
       "      <td>Northern boarder</td>\n",
       "      <td>26.263764</td>\n",
       "      <td>1012.641971</td>\n",
       "    </tr>\n",
       "    <tr>\n",
       "      <th>10</th>\n",
       "      <td>Qassim</td>\n",
       "      <td>41.478272</td>\n",
       "      <td>1013.489841</td>\n",
       "    </tr>\n",
       "    <tr>\n",
       "      <th>11</th>\n",
       "      <td>Riyadh</td>\n",
       "      <td>24.087936</td>\n",
       "      <td>1013.290256</td>\n",
       "    </tr>\n",
       "    <tr>\n",
       "      <th>12</th>\n",
       "      <td>Tabuk</td>\n",
       "      <td>28.717328</td>\n",
       "      <td>1014.267718</td>\n",
       "    </tr>\n",
       "  </tbody>\n",
       "</table>\n",
       "</div>"
      ],
      "text/plain": [
       "                city   humidity    barometer\n",
       "0              Assir  47.590154  1023.498147\n",
       "1               Baha  38.722982  1019.012376\n",
       "2                 EP  45.092703  1008.609077\n",
       "3               Hail  41.536087  1013.528736\n",
       "4               Jawf  30.500442  1015.505283\n",
       "5              Jazan  45.803066  1023.087145\n",
       "6             Madina  19.971600  1014.141254\n",
       "7              Mecca  54.158772  1008.713919\n",
       "8             Najran  45.953645  1023.093818\n",
       "9   Northern boarder  26.263764  1012.641971\n",
       "10            Qassim  41.478272  1013.489841\n",
       "11            Riyadh  24.087936  1013.290256\n",
       "12             Tabuk  28.717328  1014.267718"
      ]
     },
     "execution_count": 10,
     "metadata": {},
     "output_type": "execute_result"
    }
   ],
   "source": [
    "# Here to display the means per city.\n",
    "df.groupby(by='city')[['humidity','barometer']].mean().reset_index()\n"
   ]
  },
  {
   "cell_type": "code",
   "execution_count": 11,
   "id": "0f966132",
   "metadata": {},
   "outputs": [],
   "source": [
    "# now filling the missing values with means for each city\n",
    "df['humidity'] = df['humidity'].fillna(df.groupby('city')['humidity'].transform('mean'))\n"
   ]
  },
  {
   "cell_type": "code",
   "execution_count": 12,
   "id": "a52172be",
   "metadata": {},
   "outputs": [],
   "source": [
    "df['barometer'] = df['barometer'].fillna(df.groupby('city')['barometer'].transform('mean'))\n"
   ]
  },
  {
   "cell_type": "code",
   "execution_count": 13,
   "id": "fe539330",
   "metadata": {},
   "outputs": [
    {
     "data": {
      "text/plain": [
       "city          0\n",
       "year          0\n",
       "month         0\n",
       "day           0\n",
       "hour          0\n",
       "minute        0\n",
       "weather       0\n",
       "temp          0\n",
       "wind          0\n",
       "humidity      0\n",
       "barometer     0\n",
       "visibility    0\n",
       "dtype: int64"
      ]
     },
     "execution_count": 13,
     "metadata": {},
     "output_type": "execute_result"
    }
   ],
   "source": [
    "df.isnull().sum()"
   ]
  },
  {
   "cell_type": "code",
   "execution_count": 14,
   "id": "9ad601d9",
   "metadata": {},
   "outputs": [
    {
     "data": {
      "text/html": [
       "<div>\n",
       "<style scoped>\n",
       "    .dataframe tbody tr th:only-of-type {\n",
       "        vertical-align: middle;\n",
       "    }\n",
       "\n",
       "    .dataframe tbody tr th {\n",
       "        vertical-align: top;\n",
       "    }\n",
       "\n",
       "    .dataframe thead th {\n",
       "        text-align: right;\n",
       "    }\n",
       "</style>\n",
       "<table border=\"1\" class=\"dataframe\">\n",
       "  <thead>\n",
       "    <tr style=\"text-align: right;\">\n",
       "      <th></th>\n",
       "      <th>year</th>\n",
       "      <th>month</th>\n",
       "      <th>day</th>\n",
       "      <th>hour</th>\n",
       "      <th>minute</th>\n",
       "      <th>temp</th>\n",
       "      <th>wind</th>\n",
       "      <th>humidity</th>\n",
       "      <th>barometer</th>\n",
       "      <th>visibility</th>\n",
       "    </tr>\n",
       "  </thead>\n",
       "  <tbody>\n",
       "    <tr>\n",
       "      <th>count</th>\n",
       "      <td>249023.000000</td>\n",
       "      <td>249023.000000</td>\n",
       "      <td>249023.000000</td>\n",
       "      <td>249023.000000</td>\n",
       "      <td>249023.000000</td>\n",
       "      <td>249023.000000</td>\n",
       "      <td>249023.000000</td>\n",
       "      <td>249023.000000</td>\n",
       "      <td>249023.000000</td>\n",
       "      <td>249023.000000</td>\n",
       "    </tr>\n",
       "    <tr>\n",
       "      <th>mean</th>\n",
       "      <td>2017.710007</td>\n",
       "      <td>6.050694</td>\n",
       "      <td>15.691081</td>\n",
       "      <td>12.536890</td>\n",
       "      <td>0.131108</td>\n",
       "      <td>24.722624</td>\n",
       "      <td>12.957104</td>\n",
       "      <td>37.553192</td>\n",
       "      <td>1015.454041</td>\n",
       "      <td>11.053453</td>\n",
       "    </tr>\n",
       "    <tr>\n",
       "      <th>std</th>\n",
       "      <td>0.706113</td>\n",
       "      <td>3.521591</td>\n",
       "      <td>8.787958</td>\n",
       "      <td>6.910254</td>\n",
       "      <td>1.970710</td>\n",
       "      <td>8.880913</td>\n",
       "      <td>8.711619</td>\n",
       "      <td>23.592329</td>\n",
       "      <td>6.970366</td>\n",
       "      <td>7.053005</td>\n",
       "    </tr>\n",
       "    <tr>\n",
       "      <th>min</th>\n",
       "      <td>2017.000000</td>\n",
       "      <td>1.000000</td>\n",
       "      <td>1.000000</td>\n",
       "      <td>1.000000</td>\n",
       "      <td>0.000000</td>\n",
       "      <td>-4.000000</td>\n",
       "      <td>-1.000000</td>\n",
       "      <td>0.000000</td>\n",
       "      <td>904.000000</td>\n",
       "      <td>-1.000000</td>\n",
       "    </tr>\n",
       "    <tr>\n",
       "      <th>25%</th>\n",
       "      <td>2017.000000</td>\n",
       "      <td>3.000000</td>\n",
       "      <td>8.000000</td>\n",
       "      <td>7.000000</td>\n",
       "      <td>0.000000</td>\n",
       "      <td>18.000000</td>\n",
       "      <td>7.000000</td>\n",
       "      <td>17.000000</td>\n",
       "      <td>1011.000000</td>\n",
       "      <td>5.000000</td>\n",
       "    </tr>\n",
       "    <tr>\n",
       "      <th>50%</th>\n",
       "      <td>2018.000000</td>\n",
       "      <td>6.000000</td>\n",
       "      <td>16.000000</td>\n",
       "      <td>13.000000</td>\n",
       "      <td>0.000000</td>\n",
       "      <td>24.000000</td>\n",
       "      <td>11.000000</td>\n",
       "      <td>32.000000</td>\n",
       "      <td>1016.000000</td>\n",
       "      <td>16.000000</td>\n",
       "    </tr>\n",
       "    <tr>\n",
       "      <th>75%</th>\n",
       "      <td>2018.000000</td>\n",
       "      <td>9.000000</td>\n",
       "      <td>23.000000</td>\n",
       "      <td>19.000000</td>\n",
       "      <td>0.000000</td>\n",
       "      <td>31.000000</td>\n",
       "      <td>19.000000</td>\n",
       "      <td>55.000000</td>\n",
       "      <td>1021.000000</td>\n",
       "      <td>16.000000</td>\n",
       "    </tr>\n",
       "    <tr>\n",
       "      <th>max</th>\n",
       "      <td>2019.000000</td>\n",
       "      <td>12.000000</td>\n",
       "      <td>31.000000</td>\n",
       "      <td>24.000000</td>\n",
       "      <td>59.000000</td>\n",
       "      <td>50.000000</td>\n",
       "      <td>163.000000</td>\n",
       "      <td>100.000000</td>\n",
       "      <td>1101.000000</td>\n",
       "      <td>161.000000</td>\n",
       "    </tr>\n",
       "  </tbody>\n",
       "</table>\n",
       "</div>"
      ],
      "text/plain": [
       "                year          month            day           hour  \\\n",
       "count  249023.000000  249023.000000  249023.000000  249023.000000   \n",
       "mean     2017.710007       6.050694      15.691081      12.536890   \n",
       "std         0.706113       3.521591       8.787958       6.910254   \n",
       "min      2017.000000       1.000000       1.000000       1.000000   \n",
       "25%      2017.000000       3.000000       8.000000       7.000000   \n",
       "50%      2018.000000       6.000000      16.000000      13.000000   \n",
       "75%      2018.000000       9.000000      23.000000      19.000000   \n",
       "max      2019.000000      12.000000      31.000000      24.000000   \n",
       "\n",
       "              minute           temp           wind       humidity  \\\n",
       "count  249023.000000  249023.000000  249023.000000  249023.000000   \n",
       "mean        0.131108      24.722624      12.957104      37.553192   \n",
       "std         1.970710       8.880913       8.711619      23.592329   \n",
       "min         0.000000      -4.000000      -1.000000       0.000000   \n",
       "25%         0.000000      18.000000       7.000000      17.000000   \n",
       "50%         0.000000      24.000000      11.000000      32.000000   \n",
       "75%         0.000000      31.000000      19.000000      55.000000   \n",
       "max        59.000000      50.000000     163.000000     100.000000   \n",
       "\n",
       "           barometer     visibility  \n",
       "count  249023.000000  249023.000000  \n",
       "mean     1015.454041      11.053453  \n",
       "std         6.970366       7.053005  \n",
       "min       904.000000      -1.000000  \n",
       "25%      1011.000000       5.000000  \n",
       "50%      1016.000000      16.000000  \n",
       "75%      1021.000000      16.000000  \n",
       "max      1101.000000     161.000000  "
      ]
     },
     "execution_count": 14,
     "metadata": {},
     "output_type": "execute_result"
    }
   ],
   "source": [
    "df.describe()"
   ]
  },
  {
   "cell_type": "code",
   "execution_count": 15,
   "id": "1f595c62",
   "metadata": {},
   "outputs": [],
   "source": [
    "# i considered -1 wind speed is outlier becasue is not make sens we assumed in a wrong entry\n",
    "#(df['wind'] < 0).sum()"
   ]
  },
  {
   "cell_type": "code",
   "execution_count": 16,
   "id": "7a841e87",
   "metadata": {},
   "outputs": [],
   "source": [
    "#df.drop(df[df['wind'] < 0].index, inplace = True)"
   ]
  },
  {
   "cell_type": "markdown",
   "id": "460f46e8",
   "metadata": {},
   "source": [
    "### 2.4 Extract and create the target "
   ]
  },
  {
   "cell_type": "markdown",
   "id": "19075065",
   "metadata": {},
   "source": [
    "it is obvious that `weather` in the dataset represents the weather phenomenas, which are in a text format. and multiple phenomena merged together. Since we are predicting the rain only, So we will extract the keywords `rain` and it's synonyms and placed in a new column shows the result whether is rained or not raind on that day."
   ]
  },
  {
   "cell_type": "markdown",
   "id": "7375cd56",
   "metadata": {},
   "source": [
    "Lets check weather phenomena"
   ]
  },
  {
   "cell_type": "code",
   "execution_count": 17,
   "id": "b1647482",
   "metadata": {},
   "outputs": [
    {
     "data": {
      "text/plain": [
       "array(['Clear ', 'Sunny ', 'Scattered clouds ', 'Partly sunny ',\n",
       "       'Passing clouds ', 'Refreshingly cool ', 'Low level haze ',\n",
       "       'Duststorm ', 'Thunderstorms  Passing clouds ', 'Fog ',\n",
       "       'Thunderstorms  Partly sunny ', 'Light rain  Partly sunny ',\n",
       "       'Dense fog ', 'Thunderstorms  Scattered clouds ',\n",
       "       'Rain  Passing clouds ', 'Extremely hot ', 'Rain  Partly sunny ',\n",
       "       'Pleasantly warm ', 'Hot ', 'Mild ', 'Overcast ',\n",
       "       'Rain  Overcast ', 'Smoke ', 'Thunderstorms  Broken clouds ',\n",
       "       'Heavy rain  Partly sunny ', 'Thunderstorms  Overcast ',\n",
       "       'Light rain  Overcast ', 'Warm ', 'Thunderstorms  Cloudy ',\n",
       "       'Drizzle  Overcast ', 'Thunderstorms  Partly cloudy ',\n",
       "       'Broken clouds ', 'Sandstorm ', 'Partly cloudy ', 'Mostly cloudy ',\n",
       "       'Rain  Partly cloudy ', 'Rain  Broken clouds ',\n",
       "       'Rain  Scattered clouds ', 'Haze ', 'Rain  Mostly cloudy ',\n",
       "       'Hail  Partly sunny ', 'Thundershowers  Passing clouds ',\n",
       "       'Thunderstorms  More clouds than sun ', 'More clouds than sun ',\n",
       "       'Light rain  Partly cloudy ', 'Light rain  Mostly cloudy ',\n",
       "       'Drizzle  Mostly cloudy ', 'Drizzle  Partly sunny ',\n",
       "       'Light rain  Broken clouds ', 'Thunderstorms  Mostly cloudy ',\n",
       "       'Light rain  More clouds than sun ', 'Thunderstorms  Fog ',\n",
       "       'Rain  More clouds than sun ', 'Heavy rain  Mostly cloudy ',\n",
       "       'Heavy rain  More clouds than sun ', 'Light rain  Fog ',\n",
       "       'Strong thunderstorms  More clouds than sun ',\n",
       "       'Light rain  Passing clouds ', 'Cool ',\n",
       "       'Drizzle  More clouds than sun ', 'Drizzle  Fog ',\n",
       "       'Drizzle  Broken clouds ', 'Heavy rain  Overcast ',\n",
       "       'Light rain  Scattered clouds ', 'Cloudy ',\n",
       "       'Strong thunderstorms  Partly sunny ',\n",
       "       'Strong thunderstorms  Cloudy ', 'Hail  Cloudy ',\n",
       "       'Thunderstorms  Sandstorm ', 'Sprinkles  Cloudy ',\n",
       "       'Sprinkles  Overcast ', 'Sprinkles  Duststorm ', 'Rain  Clear ',\n",
       "       'Sprinkles  Low level haze ', 'Thundershowers  Partly sunny ',\n",
       "       'Thundershowers  Scattered clouds ', 'Hail  Passing clouds ',\n",
       "       'Drizzle  Dense fog ', 'Rain showers  Partly sunny ',\n",
       "       'Rain  Sandstorm ', 'Rain  Fog '], dtype=object)"
      ]
     },
     "execution_count": 17,
     "metadata": {},
     "output_type": "execute_result"
    }
   ],
   "source": [
    "df['weather'].unique()"
   ]
  },
  {
   "cell_type": "code",
   "execution_count": 18,
   "id": "b0311adf",
   "metadata": {},
   "outputs": [],
   "source": [
    "# creating the target `rain`\n",
    "df['rain'] = df['weather'].str.contains('rain|shower|thunderstorm|thundershowers', case = False ,regex=True)\n"
   ]
  },
  {
   "cell_type": "code",
   "execution_count": 19,
   "id": "86872d6b",
   "metadata": {},
   "outputs": [
    {
     "data": {
      "text/plain": [
       "weather\n",
       "Refreshingly cool                      [False]\n",
       "Drizzle  Fog                           [False]\n",
       "Extremely hot                          [False]\n",
       "Rain  Passing clouds                    [True]\n",
       "Strong thunderstorms  Cloudy            [True]\n",
       "Fog                                    [False]\n",
       "Rain  Sandstorm                         [True]\n",
       "Partly sunny                           [False]\n",
       "Heavy rain  Partly sunny                [True]\n",
       "Drizzle  Broken clouds                 [False]\n",
       "Strong thunderstorms  Partly sunny      [True]\n",
       "Low level haze                         [False]\n",
       "Drizzle  Overcast                      [False]\n",
       "Haze                                   [False]\n",
       "Hail  Cloudy                           [False]\n",
       "Hail  Partly sunny                     [False]\n",
       "Overcast                               [False]\n",
       "Light rain  More clouds than sun        [True]\n",
       "Rain  Overcast                          [True]\n",
       "Thundershowers  Partly sunny            [True]\n",
       "Name: rain, dtype: object"
      ]
     },
     "execution_count": 19,
     "metadata": {},
     "output_type": "execute_result"
    }
   ],
   "source": [
    "# lets check a sample\n",
    "df.groupby('weather')['rain'].unique().sample(20)"
   ]
  },
  {
   "cell_type": "code",
   "execution_count": 20,
   "id": "7fc70f47",
   "metadata": {},
   "outputs": [
    {
     "data": {
      "text/plain": [
       "False    245696\n",
       "True       3327\n",
       "Name: rain, dtype: int64"
      ]
     },
     "execution_count": 20,
     "metadata": {},
     "output_type": "execute_result"
    }
   ],
   "source": [
    "df['rain'].value_counts()"
   ]
  },
  {
   "cell_type": "markdown",
   "id": "90e6573c",
   "metadata": {},
   "source": [
    "3327 observations was rained and 245696 was not so, data is imbalnced "
   ]
  },
  {
   "cell_type": "code",
   "execution_count": 21,
   "id": "13f2d4c2",
   "metadata": {},
   "outputs": [],
   "source": [
    "# weather not need it and we will use rain as target\n",
    "df.drop('weather', axis =1 , inplace =True)\n"
   ]
  },
  {
   "cell_type": "code",
   "execution_count": 22,
   "id": "ba4950e1",
   "metadata": {},
   "outputs": [],
   "source": [
    "#X = df.drop(['rain'], axis=1)\n",
    "#y = df['rain']"
   ]
  },
  {
   "cell_type": "code",
   "execution_count": 23,
   "id": "9b6f241c",
   "metadata": {},
   "outputs": [],
   "source": [
    "#from imblearn.under_sampling import RandomUnderSampler\n",
    "\n",
    "#rus = RandomUnderSampler(random_state=1)\n",
    "#rus.fit(X, y)\n",
    "#X_resampled, y_resampled = rus.fit_resample(X, y)\n",
    "#df_resampled = pd.concat([X_resampled,y_resampled], axis =1)\n",
    "\n"
   ]
  },
  {
   "cell_type": "markdown",
   "id": "cbfb7dda",
   "metadata": {},
   "source": []
  },
  {
   "cell_type": "code",
   "execution_count": 24,
   "id": "f889f8f0",
   "metadata": {},
   "outputs": [],
   "source": [
    "#df_resampled['rain'].value_counts()"
   ]
  },
  {
   "cell_type": "code",
   "execution_count": 25,
   "id": "4148d785",
   "metadata": {},
   "outputs": [],
   "source": [
    "# checking if all city included in resampled dataframe\n",
    "#len(df['city'].unique()) , len(df_resampled['city'].unique())\n"
   ]
  },
  {
   "cell_type": "code",
   "execution_count": 26,
   "id": "3e8983e5",
   "metadata": {},
   "outputs": [],
   "source": [
    "# # checking if all city included in resampled dataframe\n",
    "#df['year'].unique() , df_resampled['year'].unique()\n"
   ]
  },
  {
   "cell_type": "markdown",
   "id": "ef864285",
   "metadata": {},
   "source": [
    "# 3. EDA"
   ]
  },
  {
   "cell_type": "markdown",
   "id": "94fa2e59",
   "metadata": {},
   "source": [
    "### 3.1 identify outliers"
   ]
  },
  {
   "cell_type": "code",
   "execution_count": 27,
   "id": "3dcee239",
   "metadata": {},
   "outputs": [
    {
     "data": {
      "text/html": [
       "<div>\n",
       "<style scoped>\n",
       "    .dataframe tbody tr th:only-of-type {\n",
       "        vertical-align: middle;\n",
       "    }\n",
       "\n",
       "    .dataframe tbody tr th {\n",
       "        vertical-align: top;\n",
       "    }\n",
       "\n",
       "    .dataframe thead th {\n",
       "        text-align: right;\n",
       "    }\n",
       "</style>\n",
       "<table border=\"1\" class=\"dataframe\">\n",
       "  <thead>\n",
       "    <tr style=\"text-align: right;\">\n",
       "      <th></th>\n",
       "      <th>temp</th>\n",
       "      <th>wind</th>\n",
       "      <th>humidity</th>\n",
       "      <th>barometer</th>\n",
       "      <th>visibility</th>\n",
       "    </tr>\n",
       "  </thead>\n",
       "  <tbody>\n",
       "    <tr>\n",
       "      <th>count</th>\n",
       "      <td>249023.000000</td>\n",
       "      <td>249023.000000</td>\n",
       "      <td>249023.000000</td>\n",
       "      <td>249023.000000</td>\n",
       "      <td>249023.000000</td>\n",
       "    </tr>\n",
       "    <tr>\n",
       "      <th>mean</th>\n",
       "      <td>24.722624</td>\n",
       "      <td>12.957104</td>\n",
       "      <td>37.553192</td>\n",
       "      <td>1015.454041</td>\n",
       "      <td>11.053453</td>\n",
       "    </tr>\n",
       "    <tr>\n",
       "      <th>std</th>\n",
       "      <td>8.880913</td>\n",
       "      <td>8.711619</td>\n",
       "      <td>23.592329</td>\n",
       "      <td>6.970366</td>\n",
       "      <td>7.053005</td>\n",
       "    </tr>\n",
       "    <tr>\n",
       "      <th>min</th>\n",
       "      <td>-4.000000</td>\n",
       "      <td>-1.000000</td>\n",
       "      <td>0.000000</td>\n",
       "      <td>904.000000</td>\n",
       "      <td>-1.000000</td>\n",
       "    </tr>\n",
       "    <tr>\n",
       "      <th>25%</th>\n",
       "      <td>18.000000</td>\n",
       "      <td>7.000000</td>\n",
       "      <td>17.000000</td>\n",
       "      <td>1011.000000</td>\n",
       "      <td>5.000000</td>\n",
       "    </tr>\n",
       "    <tr>\n",
       "      <th>50%</th>\n",
       "      <td>24.000000</td>\n",
       "      <td>11.000000</td>\n",
       "      <td>32.000000</td>\n",
       "      <td>1016.000000</td>\n",
       "      <td>16.000000</td>\n",
       "    </tr>\n",
       "    <tr>\n",
       "      <th>75%</th>\n",
       "      <td>31.000000</td>\n",
       "      <td>19.000000</td>\n",
       "      <td>55.000000</td>\n",
       "      <td>1021.000000</td>\n",
       "      <td>16.000000</td>\n",
       "    </tr>\n",
       "    <tr>\n",
       "      <th>max</th>\n",
       "      <td>50.000000</td>\n",
       "      <td>163.000000</td>\n",
       "      <td>100.000000</td>\n",
       "      <td>1101.000000</td>\n",
       "      <td>161.000000</td>\n",
       "    </tr>\n",
       "  </tbody>\n",
       "</table>\n",
       "</div>"
      ],
      "text/plain": [
       "                temp           wind       humidity      barometer  \\\n",
       "count  249023.000000  249023.000000  249023.000000  249023.000000   \n",
       "mean       24.722624      12.957104      37.553192    1015.454041   \n",
       "std         8.880913       8.711619      23.592329       6.970366   \n",
       "min        -4.000000      -1.000000       0.000000     904.000000   \n",
       "25%        18.000000       7.000000      17.000000    1011.000000   \n",
       "50%        24.000000      11.000000      32.000000    1016.000000   \n",
       "75%        31.000000      19.000000      55.000000    1021.000000   \n",
       "max        50.000000     163.000000     100.000000    1101.000000   \n",
       "\n",
       "          visibility  \n",
       "count  249023.000000  \n",
       "mean       11.053453  \n",
       "std         7.053005  \n",
       "min        -1.000000  \n",
       "25%         5.000000  \n",
       "50%        16.000000  \n",
       "75%        16.000000  \n",
       "max       161.000000  "
      ]
     },
     "execution_count": 27,
     "metadata": {},
     "output_type": "execute_result"
    }
   ],
   "source": [
    "df.loc[:,'temp':'visibility'].describe()"
   ]
  },
  {
   "cell_type": "code",
   "execution_count": 28,
   "id": "ff8af4c8",
   "metadata": {},
   "outputs": [
    {
     "data": {
      "image/png": "[encoded data removed]",
      "text/plain": [
       "<Figure size 1080x216 with 2 Axes>"
      ]
     },
     "metadata": {},
     "output_type": "display_data"
    },
    {
     "data": {
      "image/png": "[encoded data removed]",
      "text/plain": [
       "<Figure size 1080x216 with 2 Axes>"
      ]
     },
     "metadata": {},
     "output_type": "display_data"
    },
    {
     "data": {
      "image/png": "[encoded data removed]",
      "text/plain": [
       "<Figure size 1080x216 with 2 Axes>"
      ]
     },
     "metadata": {},
     "output_type": "display_data"
    },
    {
     "data": {
      "image/png": "[encoded data removed]",
      "text/plain": [
       "<Figure size 1080x216 with 2 Axes>"
      ]
     },
     "metadata": {},
     "output_type": "display_data"
    },
    {
     "data": {
      "image/png": "[encoded data removed]",
      "text/plain": [
       "<Figure size 1080x216 with 2 Axes>"
      ]
     },
     "metadata": {},
     "output_type": "display_data"
    }
   ],
   "source": [
    "num_cols=df.loc[:,['temp','wind','humidity','barometer','visibility']].select_dtypes(include=['int64','float64']).columns.tolist() # a revised list of numerical features  \n",
    "\n",
    "\n",
    "sns.set_style('darkgrid')\n",
    "sns.set_palette(\"Spectral\" )\n",
    "for i in num_cols:\n",
    "   \n",
    "    fig, axs = plt.subplots(1,2,figsize=(15, 3))\n",
    "\n",
    "    sns.histplot(df[i],bins=20, kde=True,ax=axs[0]);\n",
    "    sns.boxplot(x= df[i], ax = axs[1], color='#99befd', fliersize=1);\n",
    "    \n",
    "    axs[0].axvline(df[i].mean(), color='r', linewidth=2, linestyle='--', label='Mean')\n",
    "    axs[0].legend()"
   ]
  },
  {
   "cell_type": "markdown",
   "id": "d43fbb0e",
   "metadata": {},
   "source": [
    "#### We can see that too many outliers on `wind`, and few on `temp`, `visibility`, `barometer` and shows skewed distribution. So, I will use interquantile range to find outliers."
   ]
  },
  {
   "cell_type": "code",
   "execution_count": 29,
   "id": "7d38362f",
   "metadata": {},
   "outputs": [
    {
     "name": "stdout",
     "output_type": "stream",
     "text": [
      "temp  outliers are values < -1.5 or > 50.5\n",
      "wind  outliers are values < -11.0 or > 37.0\n",
      "humidity  outliers are values < -40.0 or > 112.0\n",
      "barometer  outliers are values < 996.0 or > 1036.0\n",
      "visibility  outliers are values < -11.5 or > 32.5\n"
     ]
    }
   ],
   "source": [
    "# find outliers for temp variable\n",
    "columns = df.loc[:,'temp':'visibility'].columns\n",
    "\n",
    "\n",
    "for f in columns:\n",
    "    IQR = df[f].quantile(0.75) - df[f].quantile(0.25)\n",
    "    Lower_fence = df[f].quantile(0.25) - (IQR * 1.5)\n",
    "    Upper_fence = df[f].quantile(0.75) + (IQR * 1.5)\n",
    "    print(f,' outliers are values < {lowerboundary} or > {upperboundary}'.format(lowerboundary=Lower_fence, upperboundary=Upper_fence))\n"
   ]
  },
  {
   "cell_type": "markdown",
   "id": "f4b3a751",
   "metadata": {},
   "source": [
    "### Lets discover patterns and relationships between variables in the dataset."
   ]
  },
  {
   "cell_type": "code",
   "execution_count": 30,
   "id": "c71c0b0f",
   "metadata": {},
   "outputs": [],
   "source": [
    "correlation = df.corr()"
   ]
  },
  {
   "cell_type": "code",
   "execution_count": 31,
   "id": "6e74c03a",
   "metadata": {},
   "outputs": [
    {
     "data": {
      "image/png": "[encoded data removed]",
      "text/plain": [
       "<Figure size 1152x864 with 2 Axes>"
      ]
     },
     "metadata": {},
     "output_type": "display_data"
    }
   ],
   "source": [
    "plt.figure(figsize=(16,12))\n",
    "plt.title('Correlation Heatmap of Rain in Saudi Arabia Dataset')\n",
    "ax = sns.heatmap(correlation, square=True, annot=True, fmt='.2f', linecolor='white')\n",
    "ax.set_xticklabels(ax.get_xticklabels(), rotation=90)\n",
    "ax.set_yticklabels(ax.get_yticklabels(), rotation=30)           \n",
    "plt.show()"
   ]
  },
  {
   "cell_type": "markdown",
   "id": "f6598e42",
   "metadata": {},
   "source": [
    "There no stronge positive relationship between the features\n",
    " - `barometer` and `humidity` positively correlated with correlation coefficient = 0.29. \n",
    " - `temp`and `month` positively correlated with correlation coefficient = 0.23. \n",
    " - `temp`and `hours` positively correlated with correlation coefficient = 0.21.\n",
    " - `wind`and `hours` positively correlated with correlation coefficient = 0.20.\n",
    " - `temp`and `wind`  positively correlated with correlation coefficient = 0.24.\n",
    "\n",
    " - `temp`and `barometer`  Negatively correlated with correlation coefficient = -0.68.\n",
    " - `temp`and `humidity`  Negatively correlated with correlation coefficient = -0.60.\n",
    "\n",
    " Also the pattren in pairplot Illustrate the relations.\n",
    " \n",
    " "
   ]
  },
  {
   "cell_type": "code",
   "execution_count": 32,
   "id": "4050f004",
   "metadata": {},
   "outputs": [],
   "source": [
    "#sns.pairplot(df.loc[:,'year':'visibility'])"
   ]
  },
  {
   "cell_type": "code",
   "execution_count": 33,
   "id": "33c6d5de",
   "metadata": {},
   "outputs": [
    {
     "data": {
      "image/png": "[encoded data removed]",
      "text/plain": [
       "<Figure size 576x360 with 1 Axes>"
      ]
     },
     "metadata": {},
     "output_type": "display_data"
    }
   ],
   "source": [
    "#check labels target\n",
    "f, ax = plt.subplots(figsize=(8, 5))\n",
    "plt.title('Number of rains in Saudi Arabia b/w 2015 -2017')\n",
    "ax = sns.countplot(x=\"rain\", data=df, palette=\"Set1\")\n",
    "plt.show()"
   ]
  },
  {
   "cell_type": "markdown",
   "id": "a3886d28",
   "metadata": {},
   "source": [
    "#### dataset are not balnced to I will implement RandomUnderSampler"
   ]
  },
  {
   "cell_type": "code",
   "execution_count": 34,
   "id": "0beec1a8",
   "metadata": {},
   "outputs": [
    {
     "data": {
      "text/plain": [
       "False    245696\n",
       "True       3327\n",
       "Name: rain, dtype: int64"
      ]
     },
     "execution_count": 34,
     "metadata": {},
     "output_type": "execute_result"
    }
   ],
   "source": [
    "df['rain'].value_counts()"
   ]
  },
  {
   "cell_type": "markdown",
   "id": "344ec948",
   "metadata": {},
   "source": [
    "#### 3.2 Explorering rain cross cities and years"
   ]
  },
  {
   "cell_type": "code",
   "execution_count": 35,
   "id": "add81914",
   "metadata": {},
   "outputs": [],
   "source": [
    "city_rain_rate = pd.DataFrame(df.groupby(by=['city','year'])['rain'].sum())"
   ]
  },
  {
   "cell_type": "code",
   "execution_count": 36,
   "id": "2e155ad8",
   "metadata": {},
   "outputs": [],
   "source": [
    "city_rain_rate = city_rain_rate.reset_index()"
   ]
  },
  {
   "cell_type": "code",
   "execution_count": 37,
   "id": "e83765a7",
   "metadata": {},
   "outputs": [
    {
     "data": {
      "image/png": "[encoded data removed]",
      "text/plain": [
       "<Figure size 1008x504 with 1 Axes>"
      ]
     },
     "metadata": {},
     "output_type": "display_data"
    }
   ],
   "source": [
    "plt.subplots(figsize=(14, 7))\n",
    "\n",
    "\n",
    "sns.set_style('darkgrid')\n",
    "sns.set_palette(\"Spectral\" )\n",
    "sns.barplot(data=city_rain_rate, x=\"city\", y=\"rain\", ci=None, hue='year')\n",
    "plt.title('Number of rains in Saudi Arabia per city b/w 2015 - 2017')\n",
    "plt.xlabel('City' )\n",
    "plt.ylabel('Rain Count')\n",
    "plt.xticks(rotation=35)\n",
    "sns.despine()\n",
    "\n",
    "plt.show()"
   ]
  },
  {
   "cell_type": "markdown",
   "id": "6e4b874b",
   "metadata": {},
   "source": [
    "this barchat shows that most of the rain was 2018 most of the time.\n",
    "\n"
   ]
  },
  {
   "cell_type": "markdown",
   "id": "e16cee66",
   "metadata": {},
   "source": [
    "# 4. Features Engineering outliers in numerical variables"
   ]
  },
  {
   "cell_type": "markdown",
   "id": "dcf13b26",
   "metadata": {},
   "source": [
    "### 4.1 Engineering outliers in numerical variables"
   ]
  },
  {
   "cell_type": "markdown",
   "id": "18c960ce",
   "metadata": {},
   "source": [
    "We have seen that the  `wind`, `temp`, `visibility`, `barometer`  columns contain outliers. I will use top-coding approach to cap maximum values and remove outliers from the above variables.\n",
    "\n",
    "\n"
   ]
  },
  {
   "cell_type": "code",
   "execution_count": 38,
   "id": "aac29d1a",
   "metadata": {},
   "outputs": [
    {
     "data": {
      "text/html": [
       "<div>\n",
       "<style scoped>\n",
       "    .dataframe tbody tr th:only-of-type {\n",
       "        vertical-align: middle;\n",
       "    }\n",
       "\n",
       "    .dataframe tbody tr th {\n",
       "        vertical-align: top;\n",
       "    }\n",
       "\n",
       "    .dataframe thead th {\n",
       "        text-align: right;\n",
       "    }\n",
       "</style>\n",
       "<table border=\"1\" class=\"dataframe\">\n",
       "  <thead>\n",
       "    <tr style=\"text-align: right;\">\n",
       "      <th></th>\n",
       "      <th>temp</th>\n",
       "      <th>wind</th>\n",
       "      <th>humidity</th>\n",
       "      <th>barometer</th>\n",
       "      <th>visibility</th>\n",
       "    </tr>\n",
       "  </thead>\n",
       "  <tbody>\n",
       "    <tr>\n",
       "      <th>count</th>\n",
       "      <td>249023.000000</td>\n",
       "      <td>249023.000000</td>\n",
       "      <td>249023.000000</td>\n",
       "      <td>249023.000000</td>\n",
       "      <td>249023.000000</td>\n",
       "    </tr>\n",
       "    <tr>\n",
       "      <th>mean</th>\n",
       "      <td>24.722624</td>\n",
       "      <td>12.957104</td>\n",
       "      <td>37.553192</td>\n",
       "      <td>1015.454041</td>\n",
       "      <td>11.053453</td>\n",
       "    </tr>\n",
       "    <tr>\n",
       "      <th>std</th>\n",
       "      <td>8.880913</td>\n",
       "      <td>8.711619</td>\n",
       "      <td>23.592329</td>\n",
       "      <td>6.970366</td>\n",
       "      <td>7.053005</td>\n",
       "    </tr>\n",
       "    <tr>\n",
       "      <th>min</th>\n",
       "      <td>-4.000000</td>\n",
       "      <td>-1.000000</td>\n",
       "      <td>0.000000</td>\n",
       "      <td>904.000000</td>\n",
       "      <td>-1.000000</td>\n",
       "    </tr>\n",
       "    <tr>\n",
       "      <th>25%</th>\n",
       "      <td>18.000000</td>\n",
       "      <td>7.000000</td>\n",
       "      <td>17.000000</td>\n",
       "      <td>1011.000000</td>\n",
       "      <td>5.000000</td>\n",
       "    </tr>\n",
       "    <tr>\n",
       "      <th>50%</th>\n",
       "      <td>24.000000</td>\n",
       "      <td>11.000000</td>\n",
       "      <td>32.000000</td>\n",
       "      <td>1016.000000</td>\n",
       "      <td>16.000000</td>\n",
       "    </tr>\n",
       "    <tr>\n",
       "      <th>75%</th>\n",
       "      <td>31.000000</td>\n",
       "      <td>19.000000</td>\n",
       "      <td>55.000000</td>\n",
       "      <td>1021.000000</td>\n",
       "      <td>16.000000</td>\n",
       "    </tr>\n",
       "    <tr>\n",
       "      <th>max</th>\n",
       "      <td>50.000000</td>\n",
       "      <td>163.000000</td>\n",
       "      <td>100.000000</td>\n",
       "      <td>1101.000000</td>\n",
       "      <td>161.000000</td>\n",
       "    </tr>\n",
       "  </tbody>\n",
       "</table>\n",
       "</div>"
      ],
      "text/plain": [
       "                temp           wind       humidity      barometer  \\\n",
       "count  249023.000000  249023.000000  249023.000000  249023.000000   \n",
       "mean       24.722624      12.957104      37.553192    1015.454041   \n",
       "std         8.880913       8.711619      23.592329       6.970366   \n",
       "min        -4.000000      -1.000000       0.000000     904.000000   \n",
       "25%        18.000000       7.000000      17.000000    1011.000000   \n",
       "50%        24.000000      11.000000      32.000000    1016.000000   \n",
       "75%        31.000000      19.000000      55.000000    1021.000000   \n",
       "max        50.000000     163.000000     100.000000    1101.000000   \n",
       "\n",
       "          visibility  \n",
       "count  249023.000000  \n",
       "mean       11.053453  \n",
       "std         7.053005  \n",
       "min        -1.000000  \n",
       "25%         5.000000  \n",
       "50%        16.000000  \n",
       "75%        16.000000  \n",
       "max       161.000000  "
      ]
     },
     "execution_count": 38,
     "metadata": {},
     "output_type": "execute_result"
    }
   ],
   "source": [
    "df.loc[:,'temp':'visibility'].describe()"
   ]
  },
  {
   "cell_type": "markdown",
   "id": "16204de0",
   "metadata": {},
   "source": [
    "- temp  outliers are values < -1.5 or > 50.5\n",
    "- wind  outliers are values < -11.0 or > 37.0\n",
    "- humidity  outliers are values < -40.0 or > 112.0\n",
    "- barometer  outliers are values < 996.0 or > 1036.0\n",
    "- visibility  outliers are values < -11.5 or > 32.5"
   ]
  },
  {
   "cell_type": "code",
   "execution_count": null,
   "id": "78ed8ac0",
   "metadata": {},
   "outputs": [],
   "source": []
  },
  {
   "cell_type": "code",
   "execution_count": 39,
   "id": "ee466210",
   "metadata": {},
   "outputs": [],
   "source": [
    "\n",
    "df['temp'] = np.where(df['temp']<-1.5 , -1.5 , df['temp'])\n",
    "df['wind'] = np.where(df['wind']>37.0, 37.0, df['wind'])\n",
    "df['visibility'] = np.where(df['visibility']>32.5, 32.5, df['visibility'])\n",
    "df['barometer'] = np.where(df['barometer']>1036.0, 1036.0, df['barometer'])\n",
    "df['barometer'] = np.where(df['barometer']<996.0 , 996.0 , df['barometer'])\n",
    "\n",
    "\n"
   ]
  },
  {
   "cell_type": "code",
   "execution_count": 40,
   "id": "9924faa2",
   "metadata": {},
   "outputs": [
    {
     "data": {
      "image/png": "[encoded data removed]",
      "text/plain": [
       "<Figure size 1080x216 with 2 Axes>"
      ]
     },
     "metadata": {},
     "output_type": "display_data"
    },
    {
     "data": {
      "image/png": "[encoded data removed]",
      "text/plain": [
       "<Figure size 1080x216 with 2 Axes>"
      ]
     },
     "metadata": {},
     "output_type": "display_data"
    },
    {
     "data": {
      "image/png": "[encoded data removed]",
      "text/plain": [
       "<Figure size 1080x216 with 2 Axes>"
      ]
     },
     "metadata": {},
     "output_type": "display_data"
    },
    {
     "data": {
      "image/png": "[encoded data removed]",
      "text/plain": [
       "<Figure size 1080x216 with 2 Axes>"
      ]
     },
     "metadata": {},
     "output_type": "display_data"
    },
    {
     "data": {
      "image/png": "[encoded data removed]",
      "text/plain": [
       "<Figure size 1080x216 with 2 Axes>"
      ]
     },
     "metadata": {},
     "output_type": "display_data"
    }
   ],
   "source": [
    "num_cols=df.loc[:,['temp','wind','humidity','barometer','visibility']].select_dtypes(include=['int64','float64']).columns.tolist() # a revised list of numerical features  \n",
    "\n",
    "for i in num_cols:\n",
    "   \n",
    "    fig, axs = plt.subplots(1,2,figsize=(15, 3))\n",
    "\n",
    "    sns.histplot(df[i],bins=20, kde=True,ax=axs[0]);\n",
    "    sns.boxplot(x= df[i], ax = axs[1], color='#99befd', fliersize=1);\n",
    "    \n",
    "    axs[0].axvline(df[i].mean(), color='r', linewidth=2, linestyle='--', label='Mean')\n",
    "    axs[0].legend()"
   ]
  },
  {
   "cell_type": "markdown",
   "id": "ab3eedfc",
   "metadata": {},
   "source": [
    "#### Apply one HostEncoding to the city variables"
   ]
  },
  {
   "cell_type": "code",
   "execution_count": 41,
   "id": "57c1185a",
   "metadata": {},
   "outputs": [],
   "source": [
    "c = pd.get_dummies(df['city'], drop_first=True)\n",
    "\n",
    "df  = pd.concat([c,df], axis=1 )"
   ]
  },
  {
   "cell_type": "code",
   "execution_count": 42,
   "id": "9669739c",
   "metadata": {},
   "outputs": [],
   "source": [
    "df.drop('city' , axis =1 , inplace= True)"
   ]
  },
  {
   "cell_type": "code",
   "execution_count": 43,
   "id": "a7b20b75",
   "metadata": {},
   "outputs": [
    {
     "data": {
      "text/html": [
       "<div>\n",
       "<style scoped>\n",
       "    .dataframe tbody tr th:only-of-type {\n",
       "        vertical-align: middle;\n",
       "    }\n",
       "\n",
       "    .dataframe tbody tr th {\n",
       "        vertical-align: top;\n",
       "    }\n",
       "\n",
       "    .dataframe thead th {\n",
       "        text-align: right;\n",
       "    }\n",
       "</style>\n",
       "<table border=\"1\" class=\"dataframe\">\n",
       "  <thead>\n",
       "    <tr style=\"text-align: right;\">\n",
       "      <th></th>\n",
       "      <th>Baha</th>\n",
       "      <th>EP</th>\n",
       "      <th>Hail</th>\n",
       "      <th>Jawf</th>\n",
       "      <th>Jazan</th>\n",
       "      <th>Madina</th>\n",
       "      <th>Mecca</th>\n",
       "      <th>Najran</th>\n",
       "      <th>Northern boarder</th>\n",
       "      <th>Qassim</th>\n",
       "      <th>...</th>\n",
       "      <th>month</th>\n",
       "      <th>day</th>\n",
       "      <th>hour</th>\n",
       "      <th>minute</th>\n",
       "      <th>temp</th>\n",
       "      <th>wind</th>\n",
       "      <th>humidity</th>\n",
       "      <th>barometer</th>\n",
       "      <th>visibility</th>\n",
       "      <th>rain</th>\n",
       "    </tr>\n",
       "  </thead>\n",
       "  <tbody>\n",
       "    <tr>\n",
       "      <th>0</th>\n",
       "      <td>0</td>\n",
       "      <td>0</td>\n",
       "      <td>0</td>\n",
       "      <td>0</td>\n",
       "      <td>0</td>\n",
       "      <td>0</td>\n",
       "      <td>0</td>\n",
       "      <td>0</td>\n",
       "      <td>0</td>\n",
       "      <td>1</td>\n",
       "      <td>...</td>\n",
       "      <td>1</td>\n",
       "      <td>1</td>\n",
       "      <td>24</td>\n",
       "      <td>0</td>\n",
       "      <td>17.0</td>\n",
       "      <td>11.0</td>\n",
       "      <td>64.0</td>\n",
       "      <td>1018.0</td>\n",
       "      <td>16.0</td>\n",
       "      <td>False</td>\n",
       "    </tr>\n",
       "    <tr>\n",
       "      <th>1</th>\n",
       "      <td>0</td>\n",
       "      <td>0</td>\n",
       "      <td>0</td>\n",
       "      <td>0</td>\n",
       "      <td>0</td>\n",
       "      <td>0</td>\n",
       "      <td>0</td>\n",
       "      <td>0</td>\n",
       "      <td>0</td>\n",
       "      <td>1</td>\n",
       "      <td>...</td>\n",
       "      <td>1</td>\n",
       "      <td>1</td>\n",
       "      <td>1</td>\n",
       "      <td>0</td>\n",
       "      <td>17.0</td>\n",
       "      <td>6.0</td>\n",
       "      <td>64.0</td>\n",
       "      <td>1018.0</td>\n",
       "      <td>16.0</td>\n",
       "      <td>False</td>\n",
       "    </tr>\n",
       "    <tr>\n",
       "      <th>2</th>\n",
       "      <td>0</td>\n",
       "      <td>0</td>\n",
       "      <td>0</td>\n",
       "      <td>0</td>\n",
       "      <td>0</td>\n",
       "      <td>0</td>\n",
       "      <td>0</td>\n",
       "      <td>0</td>\n",
       "      <td>0</td>\n",
       "      <td>1</td>\n",
       "      <td>...</td>\n",
       "      <td>1</td>\n",
       "      <td>1</td>\n",
       "      <td>3</td>\n",
       "      <td>0</td>\n",
       "      <td>15.0</td>\n",
       "      <td>11.0</td>\n",
       "      <td>72.0</td>\n",
       "      <td>1019.0</td>\n",
       "      <td>16.0</td>\n",
       "      <td>False</td>\n",
       "    </tr>\n",
       "    <tr>\n",
       "      <th>3</th>\n",
       "      <td>0</td>\n",
       "      <td>0</td>\n",
       "      <td>0</td>\n",
       "      <td>0</td>\n",
       "      <td>0</td>\n",
       "      <td>0</td>\n",
       "      <td>0</td>\n",
       "      <td>0</td>\n",
       "      <td>0</td>\n",
       "      <td>1</td>\n",
       "      <td>...</td>\n",
       "      <td>1</td>\n",
       "      <td>1</td>\n",
       "      <td>4</td>\n",
       "      <td>0</td>\n",
       "      <td>15.0</td>\n",
       "      <td>11.0</td>\n",
       "      <td>72.0</td>\n",
       "      <td>1019.0</td>\n",
       "      <td>16.0</td>\n",
       "      <td>False</td>\n",
       "    </tr>\n",
       "    <tr>\n",
       "      <th>4</th>\n",
       "      <td>0</td>\n",
       "      <td>0</td>\n",
       "      <td>0</td>\n",
       "      <td>0</td>\n",
       "      <td>0</td>\n",
       "      <td>0</td>\n",
       "      <td>0</td>\n",
       "      <td>0</td>\n",
       "      <td>0</td>\n",
       "      <td>1</td>\n",
       "      <td>...</td>\n",
       "      <td>1</td>\n",
       "      <td>1</td>\n",
       "      <td>5</td>\n",
       "      <td>0</td>\n",
       "      <td>15.0</td>\n",
       "      <td>9.0</td>\n",
       "      <td>72.0</td>\n",
       "      <td>1019.0</td>\n",
       "      <td>16.0</td>\n",
       "      <td>False</td>\n",
       "    </tr>\n",
       "  </tbody>\n",
       "</table>\n",
       "<p>5 rows × 23 columns</p>\n",
       "</div>"
      ],
      "text/plain": [
       "   Baha  EP  Hail  Jawf  Jazan  Madina  Mecca  Najran  Northern boarder  \\\n",
       "0     0   0     0     0      0       0      0       0                 0   \n",
       "1     0   0     0     0      0       0      0       0                 0   \n",
       "2     0   0     0     0      0       0      0       0                 0   \n",
       "3     0   0     0     0      0       0      0       0                 0   \n",
       "4     0   0     0     0      0       0      0       0                 0   \n",
       "\n",
       "   Qassim  ...  month  day  hour  minute  temp  wind  humidity  barometer  \\\n",
       "0       1  ...      1    1    24       0  17.0  11.0      64.0     1018.0   \n",
       "1       1  ...      1    1     1       0  17.0   6.0      64.0     1018.0   \n",
       "2       1  ...      1    1     3       0  15.0  11.0      72.0     1019.0   \n",
       "3       1  ...      1    1     4       0  15.0  11.0      72.0     1019.0   \n",
       "4       1  ...      1    1     5       0  15.0   9.0      72.0     1019.0   \n",
       "\n",
       "   visibility   rain  \n",
       "0        16.0  False  \n",
       "1        16.0  False  \n",
       "2        16.0  False  \n",
       "3        16.0  False  \n",
       "4        16.0  False  \n",
       "\n",
       "[5 rows x 23 columns]"
      ]
     },
     "execution_count": 43,
     "metadata": {},
     "output_type": "execute_result"
    }
   ],
   "source": [
    "df.head()"
   ]
  },
  {
   "cell_type": "markdown",
   "id": "6a914900",
   "metadata": {},
   "source": [
    "### 4.1  deal with inbalanced"
   ]
  },
  {
   "cell_type": "code",
   "execution_count": 44,
   "id": "68071fc2",
   "metadata": {},
   "outputs": [
    {
     "data": {
      "text/plain": [
       "False    245696\n",
       "True       3327\n",
       "Name: rain, dtype: int64"
      ]
     },
     "execution_count": 44,
     "metadata": {},
     "output_type": "execute_result"
    }
   ],
   "source": [
    "df['rain'].value_counts()"
   ]
  },
  {
   "cell_type": "code",
   "execution_count": 45,
   "id": "aa01183d",
   "metadata": {},
   "outputs": [],
   "source": [
    "X = df.drop(['rain'], axis=1)\n",
    "y = df['rain']"
   ]
  },
  {
   "cell_type": "code",
   "execution_count": 46,
   "id": "a8fed0b6",
   "metadata": {},
   "outputs": [],
   "source": [
    "from imblearn.under_sampling import RandomUnderSampler\n",
    "\n",
    "rus = RandomUnderSampler(random_state=1)\n",
    "rus.fit(X, y)\n",
    "X, y = rus.fit_resample(X, y)\n",
    "df = pd.concat([X,y], axis =1)\n"
   ]
  },
  {
   "cell_type": "code",
   "execution_count": 47,
   "id": "1bf33806",
   "metadata": {},
   "outputs": [
    {
     "data": {
      "text/plain": [
       "False    3327\n",
       "True     3327\n",
       "Name: rain, dtype: int64"
      ]
     },
     "execution_count": 47,
     "metadata": {},
     "output_type": "execute_result"
    }
   ],
   "source": [
    "y.value_counts()"
   ]
  },
  {
   "cell_type": "code",
   "execution_count": 48,
   "id": "6722ee1d",
   "metadata": {},
   "outputs": [
    {
     "name": "stdout",
     "output_type": "stream",
     "text": [
      "<class 'pandas.core.frame.DataFrame'>\n",
      "RangeIndex: 6654 entries, 0 to 6653\n",
      "Data columns (total 22 columns):\n",
      " #   Column            Non-Null Count  Dtype  \n",
      "---  ------            --------------  -----  \n",
      " 0   Baha              6654 non-null   uint8  \n",
      " 1   EP                6654 non-null   uint8  \n",
      " 2   Hail              6654 non-null   uint8  \n",
      " 3   Jawf              6654 non-null   uint8  \n",
      " 4   Jazan             6654 non-null   uint8  \n",
      " 5   Madina            6654 non-null   uint8  \n",
      " 6   Mecca             6654 non-null   uint8  \n",
      " 7   Najran            6654 non-null   uint8  \n",
      " 8   Northern boarder  6654 non-null   uint8  \n",
      " 9   Qassim            6654 non-null   uint8  \n",
      " 10  Riyadh            6654 non-null   uint8  \n",
      " 11  Tabuk             6654 non-null   uint8  \n",
      " 12  year              6654 non-null   int64  \n",
      " 13  month             6654 non-null   int64  \n",
      " 14  day               6654 non-null   int64  \n",
      " 15  hour              6654 non-null   int64  \n",
      " 16  minute            6654 non-null   int64  \n",
      " 17  temp              6654 non-null   float64\n",
      " 18  wind              6654 non-null   float64\n",
      " 19  humidity          6654 non-null   float64\n",
      " 20  barometer         6654 non-null   float64\n",
      " 21  visibility        6654 non-null   float64\n",
      "dtypes: float64(5), int64(5), uint8(12)\n",
      "memory usage: 597.9 KB\n"
     ]
    }
   ],
   "source": [
    "X.info()"
   ]
  },
  {
   "cell_type": "markdown",
   "id": "a80a8f14",
   "metadata": {},
   "source": [
    "### 4.2 Feature Scaling"
   ]
  },
  {
   "cell_type": "code",
   "execution_count": 49,
   "id": "47458928",
   "metadata": {},
   "outputs": [],
   "source": [
    "# first lets split to train and test sets\n",
    "from sklearn.model_selection import train_test_split\n",
    "\n",
    "X_train, X_test, y_train, y_test = train_test_split(X, y, test_size = 0.20, random_state = 42)"
   ]
  },
  {
   "cell_type": "code",
   "execution_count": 50,
   "id": "a422022e",
   "metadata": {},
   "outputs": [],
   "source": [
    "from sklearn.preprocessing import StandardScaler\n",
    "sc = StandardScaler()\n",
    "X_train = sc.fit_transform(X_train)\n",
    "X_test = sc.transform(X_test)"
   ]
  },
  {
   "cell_type": "markdown",
   "id": "75bad18f",
   "metadata": {},
   "source": [
    "# 5. Model"
   ]
  },
  {
   "cell_type": "markdown",
   "id": "ca685863",
   "metadata": {},
   "source": [
    "### 5.1 logistic regression model\n",
    "\n"
   ]
  },
  {
   "cell_type": "code",
   "execution_count": null,
   "id": "62c7afcd",
   "metadata": {},
   "outputs": [],
   "source": []
  },
  {
   "cell_type": "code",
   "execution_count": 51,
   "id": "16f8b4c9",
   "metadata": {},
   "outputs": [
    {
     "data": {
      "text/plain": [
       "LogisticRegression(C=1000, solver='liblinear')"
      ]
     },
     "execution_count": 51,
     "metadata": {},
     "output_type": "execute_result"
    }
   ],
   "source": [
    "# train a logistic regression model on the training set\n",
    "from sklearn.linear_model import LogisticRegression\n",
    "\n",
    "\n",
    "# instantiate the model\n",
    "lg = LogisticRegression(solver= 'liblinear', C=1000)\n",
    "\n",
    "# fit the model\n",
    "lg.fit(X_train, y_train)"
   ]
  },
  {
   "cell_type": "code",
   "execution_count": 52,
   "id": "32983dfd",
   "metadata": {},
   "outputs": [],
   "source": [
    "# predict the traing set\n",
    "y_pred_test = lg.predict(X_test)"
   ]
  },
  {
   "cell_type": "code",
   "execution_count": 53,
   "id": "fb684b5a",
   "metadata": {},
   "outputs": [
    {
     "name": "stdout",
     "output_type": "stream",
     "text": [
      "Model accuracy score: 0.8482\n",
      "Training set score: 0.8548\n"
     ]
    }
   ],
   "source": [
    "from sklearn.metrics import accuracy_score\n",
    "\n",
    "print('Model accuracy score: {0:0.4f}'. format(accuracy_score(y_test, y_pred_test)))\n",
    "print('Training set score: {:.4f}'.format(lg.score(X_train, y_train)))"
   ]
  },
  {
   "cell_type": "code",
   "execution_count": 54,
   "id": "00466e6e",
   "metadata": {},
   "outputs": [
    {
     "name": "stdout",
     "output_type": "stream",
     "text": [
      "              precision    recall  f1-score   support\n",
      "\n",
      "       False       0.86      0.83      0.85       672\n",
      "        True       0.83      0.86      0.85       659\n",
      "\n",
      "    accuracy                           0.85      1331\n",
      "   macro avg       0.85      0.85      0.85      1331\n",
      "weighted avg       0.85      0.85      0.85      1331\n",
      "\n"
     ]
    }
   ],
   "source": [
    "from sklearn.metrics import classification_report\n",
    "\n",
    "print(classification_report(y_test, y_pred_test))"
   ]
  },
  {
   "cell_type": "markdown",
   "id": "494921eb",
   "metadata": {},
   "source": [
    "### 5.2 confusing Matrix on logistic regression model"
   ]
  },
  {
   "cell_type": "code",
   "execution_count": 55,
   "id": "08b38afc",
   "metadata": {},
   "outputs": [
    {
     "data": {
      "text/html": [
       "<div>\n",
       "<style scoped>\n",
       "    .dataframe tbody tr th:only-of-type {\n",
       "        vertical-align: middle;\n",
       "    }\n",
       "\n",
       "    .dataframe tbody tr th {\n",
       "        vertical-align: top;\n",
       "    }\n",
       "\n",
       "    .dataframe thead th {\n",
       "        text-align: right;\n",
       "    }\n",
       "</style>\n",
       "<table border=\"1\" class=\"dataframe\">\n",
       "  <thead>\n",
       "    <tr style=\"text-align: right;\">\n",
       "      <th></th>\n",
       "      <th>0</th>\n",
       "      <th>1</th>\n",
       "    </tr>\n",
       "  </thead>\n",
       "  <tbody>\n",
       "    <tr>\n",
       "      <th>0</th>\n",
       "      <td>559</td>\n",
       "      <td>113</td>\n",
       "    </tr>\n",
       "    <tr>\n",
       "      <th>1</th>\n",
       "      <td>89</td>\n",
       "      <td>570</td>\n",
       "    </tr>\n",
       "  </tbody>\n",
       "</table>\n",
       "</div>"
      ],
      "text/plain": [
       "     0    1\n",
       "0  559  113\n",
       "1   89  570"
      ]
     },
     "execution_count": 55,
     "metadata": {},
     "output_type": "execute_result"
    }
   ],
   "source": [
    "from sklearn.metrics import confusion_matrix\n",
    "cm = confusion_matrix(y_test, y_pred_test)\n",
    "lg_cm = pd.DataFrame(cm)\n",
    "lg_score = accuracy_score(y_test, y_pred_test)\n",
    "lg_cm"
   ]
  },
  {
   "cell_type": "markdown",
   "id": "f4d59b9d",
   "metadata": {},
   "source": [
    "### 5.3 Artificial Neural Network (ANN) model\n",
    "\n"
   ]
  },
  {
   "cell_type": "code",
   "execution_count": null,
   "id": "4e03d4f2",
   "metadata": {},
   "outputs": [],
   "source": []
  },
  {
   "cell_type": "code",
   "execution_count": 56,
   "id": "ae078da8",
   "metadata": {},
   "outputs": [
    {
     "name": "stderr",
     "output_type": "stream",
     "text": [
      "2021-11-14 22:40:43.801253: I tensorflow/core/platform/cpu_feature_guard.cc:142] This TensorFlow binary is optimized with oneAPI Deep Neural Network Library (oneDNN) to use the following CPU instructions in performance-critical operations:  AVX2 FMA\n",
      "To enable them in other operations, rebuild TensorFlow with the appropriate compiler flags.\n"
     ]
    },
    {
     "data": {
      "text/plain": [
       "'2.6.0'"
      ]
     },
     "execution_count": 56,
     "metadata": {},
     "output_type": "execute_result"
    }
   ],
   "source": [
    "import tensorflow as tf\n",
    "#Initializing the ANN\n",
    "ann = tf.keras.models.Sequential()\n",
    "tf.__version__ # checking tf version"
   ]
  },
  {
   "cell_type": "code",
   "execution_count": 57,
   "id": "5767b2f3",
   "metadata": {},
   "outputs": [],
   "source": [
    "# Adding the input layer and the first hidden layer\n",
    "\n",
    "ann.add(tf.keras.layers.Dense(units=6, activation='relu'))"
   ]
  },
  {
   "cell_type": "code",
   "execution_count": 58,
   "id": "beb60547",
   "metadata": {},
   "outputs": [],
   "source": [
    "# Adding the second hidden layer\n",
    "ann.add(tf.keras.layers.Dense(units=6, activation='relu'))\n"
   ]
  },
  {
   "cell_type": "code",
   "execution_count": 59,
   "id": "005fddb8",
   "metadata": {},
   "outputs": [],
   "source": [
    "# Adding the output layer\n",
    "ann.add(tf.keras.layers.Dense(units=1, activation='sigmoid'))"
   ]
  },
  {
   "cell_type": "code",
   "execution_count": 60,
   "id": "b51c4120",
   "metadata": {},
   "outputs": [],
   "source": [
    "# Compiling the ANN\n",
    "ann.compile(optimizer = 'adam', loss = 'binary_crossentropy', metrics = ['accuracy'])"
   ]
  },
  {
   "cell_type": "code",
   "execution_count": 61,
   "id": "9f4611b7",
   "metadata": {},
   "outputs": [
    {
     "name": "stderr",
     "output_type": "stream",
     "text": [
      "2021-11-14 22:40:43.981309: I tensorflow/compiler/mlir/mlir_graph_optimization_pass.cc:185] None of the MLIR Optimization Passes are enabled (registered 2)\n"
     ]
    },
    {
     "name": "stdout",
     "output_type": "stream",
     "text": [
      "Epoch 1/100\n",
      "333/333 [==============================] - 1s 1ms/step - loss: 0.6300 - accuracy: 0.6331\n",
      "Epoch 2/100\n",
      "333/333 [==============================] - 0s 922us/step - loss: 0.4506 - accuracy: 0.8009\n",
      "Epoch 3/100\n",
      "333/333 [==============================] - 0s 1ms/step - loss: 0.3772 - accuracy: 0.8332\n",
      "Epoch 4/100\n",
      "333/333 [==============================] - 0s 966us/step - loss: 0.3489 - accuracy: 0.8437\n",
      "Epoch 5/100\n",
      "333/333 [==============================] - 0s 973us/step - loss: 0.3310 - accuracy: 0.8505\n",
      "Epoch 6/100\n",
      "333/333 [==============================] - 0s 985us/step - loss: 0.3174 - accuracy: 0.8548\n",
      "Epoch 7/100\n",
      "333/333 [==============================] - 0s 1ms/step - loss: 0.3071 - accuracy: 0.8599\n",
      "Epoch 8/100\n",
      "333/333 [==============================] - 0s 980us/step - loss: 0.2992 - accuracy: 0.8621\n",
      "Epoch 9/100\n",
      "333/333 [==============================] - 0s 1ms/step - loss: 0.2920 - accuracy: 0.8655\n",
      "Epoch 10/100\n",
      "333/333 [==============================] - 0s 1ms/step - loss: 0.2860 - accuracy: 0.8670\n",
      "Epoch 11/100\n",
      "333/333 [==============================] - 0s 1ms/step - loss: 0.2814 - accuracy: 0.8679\n",
      "Epoch 12/100\n",
      "333/333 [==============================] - 0s 1ms/step - loss: 0.2767 - accuracy: 0.8691\n",
      "Epoch 13/100\n",
      "333/333 [==============================] - 0s 956us/step - loss: 0.2737 - accuracy: 0.8681\n",
      "Epoch 14/100\n",
      "333/333 [==============================] - 0s 1ms/step - loss: 0.2711 - accuracy: 0.8717\n",
      "Epoch 15/100\n",
      "333/333 [==============================] - 0s 966us/step - loss: 0.2684 - accuracy: 0.8698\n",
      "Epoch 16/100\n",
      "333/333 [==============================] - 0s 1ms/step - loss: 0.2662 - accuracy: 0.8721\n",
      "Epoch 17/100\n",
      "333/333 [==============================] - 0s 1ms/step - loss: 0.2645 - accuracy: 0.8743\n",
      "Epoch 18/100\n",
      "333/333 [==============================] - 0s 771us/step - loss: 0.2629 - accuracy: 0.8807\n",
      "Epoch 19/100\n",
      "333/333 [==============================] - 0s 751us/step - loss: 0.2619 - accuracy: 0.8824\n",
      "Epoch 20/100\n",
      "333/333 [==============================] - 0s 978us/step - loss: 0.2603 - accuracy: 0.8833\n",
      "Epoch 21/100\n",
      "333/333 [==============================] - 0s 1ms/step - loss: 0.2588 - accuracy: 0.8863\n",
      "Epoch 22/100\n",
      "333/333 [==============================] - 0s 1ms/step - loss: 0.2577 - accuracy: 0.8852\n",
      "Epoch 23/100\n",
      "333/333 [==============================] - 0s 988us/step - loss: 0.2571 - accuracy: 0.8865\n",
      "Epoch 24/100\n",
      "333/333 [==============================] - 0s 1ms/step - loss: 0.2562 - accuracy: 0.8893\n",
      "Epoch 25/100\n",
      "333/333 [==============================] - 0s 1ms/step - loss: 0.2546 - accuracy: 0.8888\n",
      "Epoch 26/100\n",
      "333/333 [==============================] - 0s 1ms/step - loss: 0.2542 - accuracy: 0.8914\n",
      "Epoch 27/100\n",
      "333/333 [==============================] - 0s 966us/step - loss: 0.2535 - accuracy: 0.8901\n",
      "Epoch 28/100\n",
      "333/333 [==============================] - 0s 1ms/step - loss: 0.2532 - accuracy: 0.8914\n",
      "Epoch 29/100\n",
      "333/333 [==============================] - 0s 1ms/step - loss: 0.2524 - accuracy: 0.8916\n",
      "Epoch 30/100\n",
      "333/333 [==============================] - 0s 954us/step - loss: 0.2515 - accuracy: 0.8918\n",
      "Epoch 31/100\n",
      "333/333 [==============================] - 0s 984us/step - loss: 0.2512 - accuracy: 0.8927\n",
      "Epoch 32/100\n",
      "333/333 [==============================] - 0s 854us/step - loss: 0.2508 - accuracy: 0.8910\n",
      "Epoch 33/100\n",
      "333/333 [==============================] - 0s 734us/step - loss: 0.2502 - accuracy: 0.8925\n",
      "Epoch 34/100\n",
      "333/333 [==============================] - 0s 772us/step - loss: 0.2499 - accuracy: 0.8933\n",
      "Epoch 35/100\n",
      "333/333 [==============================] - 0s 795us/step - loss: 0.2495 - accuracy: 0.8933\n",
      "Epoch 36/100\n",
      "333/333 [==============================] - 0s 750us/step - loss: 0.2492 - accuracy: 0.8937\n",
      "Epoch 37/100\n",
      "333/333 [==============================] - 0s 843us/step - loss: 0.2489 - accuracy: 0.8927\n",
      "Epoch 38/100\n",
      "333/333 [==============================] - 0s 829us/step - loss: 0.2480 - accuracy: 0.8929\n",
      "Epoch 39/100\n",
      "333/333 [==============================] - 0s 739us/step - loss: 0.2476 - accuracy: 0.8937\n",
      "Epoch 40/100\n",
      "333/333 [==============================] - 0s 797us/step - loss: 0.2473 - accuracy: 0.8965\n",
      "Epoch 41/100\n",
      "333/333 [==============================] - 0s 757us/step - loss: 0.2472 - accuracy: 0.8935\n",
      "Epoch 42/100\n",
      "333/333 [==============================] - 0s 771us/step - loss: 0.2470 - accuracy: 0.8944\n",
      "Epoch 43/100\n",
      "333/333 [==============================] - 0s 897us/step - loss: 0.2462 - accuracy: 0.8959\n",
      "Epoch 44/100\n",
      "333/333 [==============================] - 0s 1ms/step - loss: 0.2459 - accuracy: 0.8971\n",
      "Epoch 45/100\n",
      "333/333 [==============================] - 0s 1ms/step - loss: 0.2455 - accuracy: 0.8937\n",
      "Epoch 46/100\n",
      "333/333 [==============================] - 0s 1ms/step - loss: 0.2448 - accuracy: 0.8967\n",
      "Epoch 47/100\n",
      "333/333 [==============================] - 0s 996us/step - loss: 0.2447 - accuracy: 0.8948\n",
      "Epoch 48/100\n",
      "333/333 [==============================] - 0s 1ms/step - loss: 0.2440 - accuracy: 0.8946\n",
      "Epoch 49/100\n",
      "333/333 [==============================] - 0s 1ms/step - loss: 0.2440 - accuracy: 0.8937\n",
      "Epoch 50/100\n",
      "333/333 [==============================] - 0s 1ms/step - loss: 0.2435 - accuracy: 0.8961\n",
      "Epoch 51/100\n",
      "333/333 [==============================] - 0s 900us/step - loss: 0.2434 - accuracy: 0.8963\n",
      "Epoch 52/100\n",
      "333/333 [==============================] - 0s 1ms/step - loss: 0.2431 - accuracy: 0.8937\n",
      "Epoch 53/100\n",
      "333/333 [==============================] - 0s 985us/step - loss: 0.2428 - accuracy: 0.8959\n",
      "Epoch 54/100\n",
      "333/333 [==============================] - 0s 935us/step - loss: 0.2423 - accuracy: 0.8944\n",
      "Epoch 55/100\n",
      "333/333 [==============================] - 0s 749us/step - loss: 0.2419 - accuracy: 0.8952\n",
      "Epoch 56/100\n",
      "333/333 [==============================] - 0s 706us/step - loss: 0.2420 - accuracy: 0.8955\n",
      "Epoch 57/100\n",
      "333/333 [==============================] - 0s 854us/step - loss: 0.2417 - accuracy: 0.8965\n",
      "Epoch 58/100\n",
      "333/333 [==============================] - 0s 921us/step - loss: 0.2413 - accuracy: 0.8963\n",
      "Epoch 59/100\n",
      "333/333 [==============================] - 0s 858us/step - loss: 0.2409 - accuracy: 0.8963\n",
      "Epoch 60/100\n",
      "333/333 [==============================] - 0s 743us/step - loss: 0.2399 - accuracy: 0.8972\n",
      "Epoch 61/100\n",
      "333/333 [==============================] - 0s 744us/step - loss: 0.2401 - accuracy: 0.8967\n",
      "Epoch 62/100\n",
      "333/333 [==============================] - 0s 761us/step - loss: 0.2395 - accuracy: 0.8976\n",
      "Epoch 63/100\n",
      "333/333 [==============================] - 0s 728us/step - loss: 0.2398 - accuracy: 0.8978\n",
      "Epoch 64/100\n",
      "333/333 [==============================] - 0s 739us/step - loss: 0.2388 - accuracy: 0.8978\n",
      "Epoch 65/100\n",
      "333/333 [==============================] - 0s 724us/step - loss: 0.2387 - accuracy: 0.8995\n",
      "Epoch 66/100\n",
      "333/333 [==============================] - 0s 799us/step - loss: 0.2386 - accuracy: 0.8989\n",
      "Epoch 67/100\n",
      "333/333 [==============================] - 0s 849us/step - loss: 0.2381 - accuracy: 0.8991\n",
      "Epoch 68/100\n",
      "333/333 [==============================] - 0s 737us/step - loss: 0.2383 - accuracy: 0.8987\n",
      "Epoch 69/100\n",
      "333/333 [==============================] - 0s 737us/step - loss: 0.2379 - accuracy: 0.9001\n",
      "Epoch 70/100\n",
      "333/333 [==============================] - 0s 749us/step - loss: 0.2380 - accuracy: 0.8987\n",
      "Epoch 71/100\n",
      "333/333 [==============================] - 0s 968us/step - loss: 0.2373 - accuracy: 0.8991\n",
      "Epoch 72/100\n",
      "333/333 [==============================] - 0s 990us/step - loss: 0.2374 - accuracy: 0.9017\n",
      "Epoch 73/100\n",
      "333/333 [==============================] - 0s 1ms/step - loss: 0.2368 - accuracy: 0.9006\n",
      "Epoch 74/100\n",
      "333/333 [==============================] - 0s 794us/step - loss: 0.2372 - accuracy: 0.8982\n",
      "Epoch 75/100\n",
      "333/333 [==============================] - 0s 859us/step - loss: 0.2368 - accuracy: 0.9001\n",
      "Epoch 76/100\n",
      "333/333 [==============================] - 0s 1ms/step - loss: 0.2368 - accuracy: 0.8995\n",
      "Epoch 77/100\n",
      "333/333 [==============================] - 0s 1ms/step - loss: 0.2369 - accuracy: 0.8991\n",
      "Epoch 78/100\n",
      "333/333 [==============================] - 0s 778us/step - loss: 0.2363 - accuracy: 0.8991\n",
      "Epoch 79/100\n",
      "333/333 [==============================] - 0s 1ms/step - loss: 0.2366 - accuracy: 0.8993\n",
      "Epoch 80/100\n"
     ]
    },
    {
     "name": "stdout",
     "output_type": "stream",
     "text": [
      "333/333 [==============================] - 0s 1ms/step - loss: 0.2359 - accuracy: 0.8986\n",
      "Epoch 81/100\n",
      "333/333 [==============================] - 0s 740us/step - loss: 0.2363 - accuracy: 0.8993\n",
      "Epoch 82/100\n",
      "333/333 [==============================] - 0s 821us/step - loss: 0.2360 - accuracy: 0.9001\n",
      "Epoch 83/100\n",
      "333/333 [==============================] - 0s 744us/step - loss: 0.2357 - accuracy: 0.9001\n",
      "Epoch 84/100\n",
      "333/333 [==============================] - 0s 730us/step - loss: 0.2358 - accuracy: 0.8986\n",
      "Epoch 85/100\n",
      "333/333 [==============================] - 0s 775us/step - loss: 0.2356 - accuracy: 0.8978\n",
      "Epoch 86/100\n",
      "333/333 [==============================] - 0s 847us/step - loss: 0.2356 - accuracy: 0.8995\n",
      "Epoch 87/100\n",
      "333/333 [==============================] - 0s 960us/step - loss: 0.2356 - accuracy: 0.9002\n",
      "Epoch 88/100\n",
      "333/333 [==============================] - 0s 932us/step - loss: 0.2358 - accuracy: 0.8987\n",
      "Epoch 89/100\n",
      "333/333 [==============================] - 0s 963us/step - loss: 0.2356 - accuracy: 0.8984\n",
      "Epoch 90/100\n",
      "333/333 [==============================] - 0s 1ms/step - loss: 0.2351 - accuracy: 0.8999\n",
      "Epoch 91/100\n",
      "333/333 [==============================] - 0s 870us/step - loss: 0.2350 - accuracy: 0.9008\n",
      "Epoch 92/100\n",
      "333/333 [==============================] - 0s 807us/step - loss: 0.2353 - accuracy: 0.9004\n",
      "Epoch 93/100\n",
      "333/333 [==============================] - 0s 766us/step - loss: 0.2350 - accuracy: 0.9004\n",
      "Epoch 94/100\n",
      "333/333 [==============================] - 0s 807us/step - loss: 0.2349 - accuracy: 0.8995\n",
      "Epoch 95/100\n",
      "333/333 [==============================] - 0s 944us/step - loss: 0.2348 - accuracy: 0.9004\n",
      "Epoch 96/100\n",
      "333/333 [==============================] - 0s 969us/step - loss: 0.2347 - accuracy: 0.9010\n",
      "Epoch 97/100\n",
      "333/333 [==============================] - 0s 851us/step - loss: 0.2343 - accuracy: 0.9016\n",
      "Epoch 98/100\n",
      "333/333 [==============================] - 0s 854us/step - loss: 0.2340 - accuracy: 0.9002\n",
      "Epoch 99/100\n",
      "333/333 [==============================] - 0s 747us/step - loss: 0.2341 - accuracy: 0.9016\n",
      "Epoch 100/100\n",
      "333/333 [==============================] - 0s 799us/step - loss: 0.2339 - accuracy: 0.8993\n"
     ]
    },
    {
     "data": {
      "text/plain": [
       "<keras.callbacks.History at 0x18c5f2760>"
      ]
     },
     "execution_count": 61,
     "metadata": {},
     "output_type": "execute_result"
    }
   ],
   "source": [
    "# Training the ANN on the Training set\n",
    "ann.fit(X_train, y_train, batch_size = 16, epochs = 100)"
   ]
  },
  {
   "cell_type": "code",
   "execution_count": 62,
   "id": "1e8b46a6",
   "metadata": {},
   "outputs": [],
   "source": [
    "#### Predicting the Test set results"
   ]
  },
  {
   "cell_type": "code",
   "execution_count": 63,
   "id": "f37afacf",
   "metadata": {},
   "outputs": [],
   "source": [
    "y_pred = ann.predict(X_test)\n",
    "y_pred = (y_pred > 0.5)\n"
   ]
  },
  {
   "cell_type": "code",
   "execution_count": 64,
   "id": "ac8b4c5c",
   "metadata": {},
   "outputs": [
    {
     "data": {
      "text/plain": [
       "0.8775356874530428"
      ]
     },
     "execution_count": 64,
     "metadata": {},
     "output_type": "execute_result"
    }
   ],
   "source": [
    "ann_score = accuracy_score(y_test, y_pred)\n",
    "ann_score"
   ]
  },
  {
   "cell_type": "code",
   "execution_count": 65,
   "id": "9190e99e",
   "metadata": {},
   "outputs": [
    {
     "name": "stdout",
     "output_type": "stream",
     "text": [
      "              precision    recall  f1-score   support\n",
      "\n",
      "       False       0.92      0.83      0.87       672\n",
      "        True       0.85      0.92      0.88       659\n",
      "\n",
      "    accuracy                           0.88      1331\n",
      "   macro avg       0.88      0.88      0.88      1331\n",
      "weighted avg       0.88      0.88      0.88      1331\n",
      "\n"
     ]
    }
   ],
   "source": [
    "print(classification_report(y_test, y_pred))"
   ]
  },
  {
   "cell_type": "code",
   "execution_count": 66,
   "id": "ca587006",
   "metadata": {},
   "outputs": [
    {
     "data": {
      "text/html": [
       "<div>\n",
       "<style scoped>\n",
       "    .dataframe tbody tr th:only-of-type {\n",
       "        vertical-align: middle;\n",
       "    }\n",
       "\n",
       "    .dataframe tbody tr th {\n",
       "        vertical-align: top;\n",
       "    }\n",
       "\n",
       "    .dataframe thead th {\n",
       "        text-align: right;\n",
       "    }\n",
       "</style>\n",
       "<table border=\"1\" class=\"dataframe\">\n",
       "  <thead>\n",
       "    <tr style=\"text-align: right;\">\n",
       "      <th></th>\n",
       "      <th>0</th>\n",
       "      <th>1</th>\n",
       "    </tr>\n",
       "  </thead>\n",
       "  <tbody>\n",
       "    <tr>\n",
       "      <th>0</th>\n",
       "      <td>561</td>\n",
       "      <td>111</td>\n",
       "    </tr>\n",
       "    <tr>\n",
       "      <th>1</th>\n",
       "      <td>52</td>\n",
       "      <td>607</td>\n",
       "    </tr>\n",
       "  </tbody>\n",
       "</table>\n",
       "</div>"
      ],
      "text/plain": [
       "     0    1\n",
       "0  561  111\n",
       "1   52  607"
      ]
     },
     "execution_count": 66,
     "metadata": {},
     "output_type": "execute_result"
    }
   ],
   "source": [
    "from sklearn.metrics import confusion_matrix, accuracy_score\n",
    "cm = confusion_matrix(y_test, y_pred)\n",
    "aan_cm = pd.DataFrame(cm)\n",
    "aan_cm"
   ]
  },
  {
   "cell_type": "markdown",
   "id": "2cca2900",
   "metadata": {},
   "source": [
    "### Random forest"
   ]
  },
  {
   "cell_type": "code",
   "execution_count": 67,
   "id": "20d2dff1",
   "metadata": {},
   "outputs": [
    {
     "data": {
      "text/plain": [
       "RandomForestClassifier(criterion='entropy', n_estimators=10, random_state=0)"
      ]
     },
     "execution_count": 67,
     "metadata": {},
     "output_type": "execute_result"
    }
   ],
   "source": [
    "from sklearn.ensemble import RandomForestClassifier\n",
    "classifier = RandomForestClassifier(n_estimators = 10, criterion = 'entropy', random_state = 0)\n",
    "classifier.fit(X_train, y_train)"
   ]
  },
  {
   "cell_type": "code",
   "execution_count": 68,
   "id": "9a5d7f5c",
   "metadata": {},
   "outputs": [],
   "source": [
    "y_pred = classifier.predict(X_test)"
   ]
  },
  {
   "cell_type": "code",
   "execution_count": 69,
   "id": "d7689f9b",
   "metadata": {},
   "outputs": [],
   "source": [
    "cm = confusion_matrix(y_test, y_pred)\n",
    "rf_cm = pd.DataFrame(cm)\n",
    "rf_cm\n",
    "rf_score =accuracy_score(y_test, y_pred)"
   ]
  },
  {
   "cell_type": "code",
   "execution_count": null,
   "id": "bb366f6b",
   "metadata": {},
   "outputs": [],
   "source": []
  },
  {
   "cell_type": "code",
   "execution_count": 70,
   "id": "9a47ee53",
   "metadata": {},
   "outputs": [
    {
     "name": "stdout",
     "output_type": "stream",
     "text": [
      "LogisticRegression : 0.8482344102178813\n",
      "Artificial Neural Network : 0.8775356874530428\n",
      "RandomForestClassifier 0.9143501126972201\n"
     ]
    }
   ],
   "source": [
    "print('LogisticRegression :' , lg_score)\n",
    "print('Artificial Neural Network :' , ann_score)\n",
    "print('RandomForestClassifier' , rf_score)"
   ]
  },
  {
   "cell_type": "code",
   "execution_count": null,
   "id": "6c8b1087",
   "metadata": {},
   "outputs": [],
   "source": []
  }
 ],
 "metadata": {
  "kernelspec": {
   "display_name": "Python 3 (ipykernel)",
   "language": "python",
   "name": "python3"
  },
  "language_info": {
   "codemirror_mode": {
    "name": "ipython",
    "version": 3
   },
   "file_extension": ".py",
   "mimetype": "text/x-python",
   "name": "python",
   "nbconvert_exporter": "python",
   "pygments_lexer": "ipython3",
   "version": "3.9.7"
  }
 },
 "nbformat": 4,
 "nbformat_minor": 5
}
