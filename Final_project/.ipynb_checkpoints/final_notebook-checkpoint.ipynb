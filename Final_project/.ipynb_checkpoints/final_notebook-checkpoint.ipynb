{
 "cells": [
  {
   "cell_type": "markdown",
   "id": "b92e2986",
   "metadata": {},
   "source": [
    "This project is aim to use historical weather data like temperature, humidity, windspeed, visibility and the pressure, and predict whater was rained or not. the target is extracted from `weather` Since the purpose is to predict the rain only.\n"
   ]
  },
  {
   "cell_type": "markdown",
   "id": "77304a09",
   "metadata": {},
   "source": [
    "# 1. Import the libraries "
   ]
  },
  {
   "cell_type": "code",
   "execution_count": 1,
   "id": "8a6e4c1b",
   "metadata": {},
   "outputs": [],
   "source": [
    "import pandas as pd\n",
    "import numpy as np\n",
    "import matplotlib.pyplot as  plt\n",
    "import seaborn as sns\n",
    "from datetime import timedelta"
   ]
  },
  {
   "cell_type": "markdown",
   "id": "4b45624a",
   "metadata": {},
   "source": [
    "# 2. Loading the data and data cleaning"
   ]
  },
  {
   "cell_type": "code",
   "execution_count": 2,
   "id": "bfadaa9c",
   "metadata": {},
   "outputs": [
    {
     "data": {
      "text/plain": [
       "(249023, 15)"
      ]
     },
     "execution_count": 2,
     "metadata": {},
     "output_type": "execute_result"
    }
   ],
   "source": [
    "df = pd.read_csv('Project/dataset/weather-sa-2017-2019-clean.csv')\n",
    "df.shape"
   ]
  },
  {
   "cell_type": "code",
   "execution_count": 3,
   "id": "9e49a24d",
   "metadata": {},
   "outputs": [
    {
     "data": {
      "text/html": [
       "<div>\n",
       "<style scoped>\n",
       "    .dataframe tbody tr th:only-of-type {\n",
       "        vertical-align: middle;\n",
       "    }\n",
       "\n",
       "    .dataframe tbody tr th {\n",
       "        vertical-align: top;\n",
       "    }\n",
       "\n",
       "    .dataframe thead th {\n",
       "        text-align: right;\n",
       "    }\n",
       "</style>\n",
       "<table border=\"1\" class=\"dataframe\">\n",
       "  <thead>\n",
       "    <tr style=\"text-align: right;\">\n",
       "      <th></th>\n",
       "      <th>Unnamed: 0</th>\n",
       "      <th>city</th>\n",
       "      <th>date</th>\n",
       "      <th>time</th>\n",
       "      <th>year</th>\n",
       "      <th>month</th>\n",
       "      <th>day</th>\n",
       "      <th>hour</th>\n",
       "      <th>minute</th>\n",
       "      <th>weather</th>\n",
       "      <th>temp</th>\n",
       "      <th>wind</th>\n",
       "      <th>humidity</th>\n",
       "      <th>barometer</th>\n",
       "      <th>visibility</th>\n",
       "    </tr>\n",
       "  </thead>\n",
       "  <tbody>\n",
       "    <tr>\n",
       "      <th>0</th>\n",
       "      <td>0</td>\n",
       "      <td>Qassim</td>\n",
       "      <td>1 January 2017</td>\n",
       "      <td>00:00</td>\n",
       "      <td>2017</td>\n",
       "      <td>1</td>\n",
       "      <td>1</td>\n",
       "      <td>24</td>\n",
       "      <td>0</td>\n",
       "      <td>Clear</td>\n",
       "      <td>17</td>\n",
       "      <td>11</td>\n",
       "      <td>64%</td>\n",
       "      <td>1018.0</td>\n",
       "      <td>16</td>\n",
       "    </tr>\n",
       "    <tr>\n",
       "      <th>1</th>\n",
       "      <td>1</td>\n",
       "      <td>Qassim</td>\n",
       "      <td>1 January 2017</td>\n",
       "      <td>01:00</td>\n",
       "      <td>2017</td>\n",
       "      <td>1</td>\n",
       "      <td>1</td>\n",
       "      <td>1</td>\n",
       "      <td>0</td>\n",
       "      <td>Clear</td>\n",
       "      <td>17</td>\n",
       "      <td>6</td>\n",
       "      <td>64%</td>\n",
       "      <td>1018.0</td>\n",
       "      <td>16</td>\n",
       "    </tr>\n",
       "    <tr>\n",
       "      <th>2</th>\n",
       "      <td>2</td>\n",
       "      <td>Qassim</td>\n",
       "      <td>1 January 2017</td>\n",
       "      <td>03:00</td>\n",
       "      <td>2017</td>\n",
       "      <td>1</td>\n",
       "      <td>1</td>\n",
       "      <td>3</td>\n",
       "      <td>0</td>\n",
       "      <td>Clear</td>\n",
       "      <td>15</td>\n",
       "      <td>11</td>\n",
       "      <td>72%</td>\n",
       "      <td>1019.0</td>\n",
       "      <td>16</td>\n",
       "    </tr>\n",
       "    <tr>\n",
       "      <th>3</th>\n",
       "      <td>3</td>\n",
       "      <td>Qassim</td>\n",
       "      <td>1 January 2017</td>\n",
       "      <td>04:00</td>\n",
       "      <td>2017</td>\n",
       "      <td>1</td>\n",
       "      <td>1</td>\n",
       "      <td>4</td>\n",
       "      <td>0</td>\n",
       "      <td>Clear</td>\n",
       "      <td>15</td>\n",
       "      <td>11</td>\n",
       "      <td>72%</td>\n",
       "      <td>1019.0</td>\n",
       "      <td>16</td>\n",
       "    </tr>\n",
       "    <tr>\n",
       "      <th>4</th>\n",
       "      <td>4</td>\n",
       "      <td>Qassim</td>\n",
       "      <td>1 January 2017</td>\n",
       "      <td>05:00</td>\n",
       "      <td>2017</td>\n",
       "      <td>1</td>\n",
       "      <td>1</td>\n",
       "      <td>5</td>\n",
       "      <td>0</td>\n",
       "      <td>Clear</td>\n",
       "      <td>15</td>\n",
       "      <td>9</td>\n",
       "      <td>72%</td>\n",
       "      <td>1019.0</td>\n",
       "      <td>16</td>\n",
       "    </tr>\n",
       "  </tbody>\n",
       "</table>\n",
       "</div>"
      ],
      "text/plain": [
       "   Unnamed: 0    city            date   time  year  month  day  hour  minute  \\\n",
       "0           0  Qassim  1 January 2017  00:00  2017      1    1    24       0   \n",
       "1           1  Qassim  1 January 2017  01:00  2017      1    1     1       0   \n",
       "2           2  Qassim  1 January 2017  03:00  2017      1    1     3       0   \n",
       "3           3  Qassim  1 January 2017  04:00  2017      1    1     4       0   \n",
       "4           4  Qassim  1 January 2017  05:00  2017      1    1     5       0   \n",
       "\n",
       "  weather  temp  wind humidity  barometer  visibility  \n",
       "0  Clear     17    11      64%     1018.0          16  \n",
       "1  Clear     17     6      64%     1018.0          16  \n",
       "2  Clear     15    11      72%     1019.0          16  \n",
       "3  Clear     15    11      72%     1019.0          16  \n",
       "4  Clear     15     9      72%     1019.0          16  "
      ]
     },
     "execution_count": 3,
     "metadata": {},
     "output_type": "execute_result"
    }
   ],
   "source": [
    "df.head()"
   ]
  },
  {
   "cell_type": "code",
   "execution_count": 4,
   "id": "ba23bff3",
   "metadata": {},
   "outputs": [
    {
     "name": "stdout",
     "output_type": "stream",
     "text": [
      "<class 'pandas.core.frame.DataFrame'>\n",
      "RangeIndex: 249023 entries, 0 to 249022\n",
      "Data columns (total 15 columns):\n",
      " #   Column      Non-Null Count   Dtype  \n",
      "---  ------      --------------   -----  \n",
      " 0   Unnamed: 0  249023 non-null  int64  \n",
      " 1   city        249023 non-null  object \n",
      " 2   date        249023 non-null  object \n",
      " 3   time        249023 non-null  object \n",
      " 4   year        249023 non-null  int64  \n",
      " 5   month       249023 non-null  int64  \n",
      " 6   day         249023 non-null  int64  \n",
      " 7   hour        249023 non-null  int64  \n",
      " 8   minute      249023 non-null  int64  \n",
      " 9   weather     249023 non-null  object \n",
      " 10  temp        249023 non-null  int64  \n",
      " 11  wind        249023 non-null  int64  \n",
      " 12  humidity    249006 non-null  object \n",
      " 13  barometer   248951 non-null  float64\n",
      " 14  visibility  249023 non-null  int64  \n",
      "dtypes: float64(1), int64(9), object(5)\n",
      "memory usage: 28.5+ MB\n"
     ]
    }
   ],
   "source": [
    "df.info()"
   ]
  },
  {
   "cell_type": "markdown",
   "id": "870b1976",
   "metadata": {},
   "source": [
    "It show that we have 10 Numerical with int and float variable and 5 Categorical variable with object datatype"
   ]
  },
  {
   "cell_type": "markdown",
   "id": "5824ee0e",
   "metadata": {},
   "source": [
    "### 2.1 Lets Drop irrelated and duplicated features"
   ]
  },
  {
   "cell_type": "code",
   "execution_count": 5,
   "id": "9a8e3125",
   "metadata": {},
   "outputs": [],
   "source": [
    "# Unnamed: 0 is irrlevent \n",
    "# date and time are duplicated features \n",
    "delete_col =['Unnamed: 0','date','time' ]\n",
    "df.drop(delete_col, axis =1 , inplace =True)"
   ]
  },
  {
   "cell_type": "code",
   "execution_count": 6,
   "id": "0423db1c",
   "metadata": {},
   "outputs": [],
   "source": [
    "#replace space to NULL if found in the datafram\n",
    "df = df.replace(\" \", np.nan).replace(\"N/A\", np.nan ).replace(\"NA\", np.nan).replace(\"\", np.nan)"
   ]
  },
  {
   "cell_type": "markdown",
   "id": "98d9e24b",
   "metadata": {},
   "source": [
    "### 2.2 Lets convert feature `humidity` to Numerical"
   ]
  },
  {
   "cell_type": "code",
   "execution_count": 7,
   "id": "24d49b05",
   "metadata": {},
   "outputs": [],
   "source": [
    "df['humidity'] = df['humidity'].str.replace('%',' ').astype('float')\n"
   ]
  },
  {
   "cell_type": "code",
   "execution_count": 8,
   "id": "1f5456cb",
   "metadata": {},
   "outputs": [
    {
     "data": {
      "text/plain": [
       "city           0\n",
       "year           0\n",
       "month          0\n",
       "day            0\n",
       "hour           0\n",
       "minute         0\n",
       "weather        0\n",
       "temp           0\n",
       "wind           0\n",
       "humidity      17\n",
       "barometer     72\n",
       "visibility     0\n",
       "dtype: int64"
      ]
     },
     "execution_count": 8,
     "metadata": {},
     "output_type": "execute_result"
    }
   ],
   "source": [
    "df.isnull().sum()"
   ]
  },
  {
   "cell_type": "markdown",
   "id": "43a633e8",
   "metadata": {},
   "source": [
    "We have 17 missing values in `humidity`\n",
    "and 71 missing value in `barometer`"
   ]
  },
  {
   "cell_type": "markdown",
   "id": "f7f9196c",
   "metadata": {},
   "source": [
    "### 2.3 Dealing with missing values"
   ]
  },
  {
   "cell_type": "markdown",
   "id": "2c065363",
   "metadata": {},
   "source": [
    "#### I decide to get means of the humidity and barometer per each city to be replaced with missing values.\n"
   ]
  },
  {
   "cell_type": "markdown",
   "id": "cf2a0940",
   "metadata": {},
   "source": [
    "checking the means for `humidity` and `barometer` for each city."
   ]
  },
  {
   "cell_type": "code",
   "execution_count": 9,
   "id": "b309ef70",
   "metadata": {},
   "outputs": [
    {
     "data": {
      "text/html": [
       "<div>\n",
       "<style scoped>\n",
       "    .dataframe tbody tr th:only-of-type {\n",
       "        vertical-align: middle;\n",
       "    }\n",
       "\n",
       "    .dataframe tbody tr th {\n",
       "        vertical-align: top;\n",
       "    }\n",
       "\n",
       "    .dataframe thead th {\n",
       "        text-align: right;\n",
       "    }\n",
       "</style>\n",
       "<table border=\"1\" class=\"dataframe\">\n",
       "  <thead>\n",
       "    <tr style=\"text-align: right;\">\n",
       "      <th></th>\n",
       "      <th>city</th>\n",
       "      <th>humidity</th>\n",
       "      <th>barometer</th>\n",
       "    </tr>\n",
       "  </thead>\n",
       "  <tbody>\n",
       "    <tr>\n",
       "      <th>0</th>\n",
       "      <td>Assir</td>\n",
       "      <td>47.590154</td>\n",
       "      <td>1023.498147</td>\n",
       "    </tr>\n",
       "    <tr>\n",
       "      <th>1</th>\n",
       "      <td>Baha</td>\n",
       "      <td>38.722982</td>\n",
       "      <td>1019.012376</td>\n",
       "    </tr>\n",
       "    <tr>\n",
       "      <th>2</th>\n",
       "      <td>EP</td>\n",
       "      <td>45.092703</td>\n",
       "      <td>1008.609077</td>\n",
       "    </tr>\n",
       "    <tr>\n",
       "      <th>3</th>\n",
       "      <td>Hail</td>\n",
       "      <td>41.536087</td>\n",
       "      <td>1013.528736</td>\n",
       "    </tr>\n",
       "    <tr>\n",
       "      <th>4</th>\n",
       "      <td>Jawf</td>\n",
       "      <td>30.500442</td>\n",
       "      <td>1015.505283</td>\n",
       "    </tr>\n",
       "    <tr>\n",
       "      <th>5</th>\n",
       "      <td>Jazan</td>\n",
       "      <td>45.803066</td>\n",
       "      <td>1023.087145</td>\n",
       "    </tr>\n",
       "    <tr>\n",
       "      <th>6</th>\n",
       "      <td>Madina</td>\n",
       "      <td>19.971600</td>\n",
       "      <td>1014.141254</td>\n",
       "    </tr>\n",
       "    <tr>\n",
       "      <th>7</th>\n",
       "      <td>Mecca</td>\n",
       "      <td>54.158772</td>\n",
       "      <td>1008.713919</td>\n",
       "    </tr>\n",
       "    <tr>\n",
       "      <th>8</th>\n",
       "      <td>Najran</td>\n",
       "      <td>45.953645</td>\n",
       "      <td>1023.093818</td>\n",
       "    </tr>\n",
       "    <tr>\n",
       "      <th>9</th>\n",
       "      <td>Northern boarder</td>\n",
       "      <td>26.263764</td>\n",
       "      <td>1012.641971</td>\n",
       "    </tr>\n",
       "    <tr>\n",
       "      <th>10</th>\n",
       "      <td>Qassim</td>\n",
       "      <td>41.478272</td>\n",
       "      <td>1013.489841</td>\n",
       "    </tr>\n",
       "    <tr>\n",
       "      <th>11</th>\n",
       "      <td>Riyadh</td>\n",
       "      <td>24.087936</td>\n",
       "      <td>1013.290256</td>\n",
       "    </tr>\n",
       "    <tr>\n",
       "      <th>12</th>\n",
       "      <td>Tabuk</td>\n",
       "      <td>28.717328</td>\n",
       "      <td>1014.267718</td>\n",
       "    </tr>\n",
       "  </tbody>\n",
       "</table>\n",
       "</div>"
      ],
      "text/plain": [
       "                city   humidity    barometer\n",
       "0              Assir  47.590154  1023.498147\n",
       "1               Baha  38.722982  1019.012376\n",
       "2                 EP  45.092703  1008.609077\n",
       "3               Hail  41.536087  1013.528736\n",
       "4               Jawf  30.500442  1015.505283\n",
       "5              Jazan  45.803066  1023.087145\n",
       "6             Madina  19.971600  1014.141254\n",
       "7              Mecca  54.158772  1008.713919\n",
       "8             Najran  45.953645  1023.093818\n",
       "9   Northern boarder  26.263764  1012.641971\n",
       "10            Qassim  41.478272  1013.489841\n",
       "11            Riyadh  24.087936  1013.290256\n",
       "12             Tabuk  28.717328  1014.267718"
      ]
     },
     "execution_count": 9,
     "metadata": {},
     "output_type": "execute_result"
    }
   ],
   "source": [
    "# Here to display the means per city.\n",
    "df.groupby(by='city')[['humidity','barometer']].mean().reset_index()\n"
   ]
  },
  {
   "cell_type": "code",
   "execution_count": 10,
   "id": "0f966132",
   "metadata": {},
   "outputs": [],
   "source": [
    "# now filling the missing values with means for each city\n",
    "df['humidity'] = df['humidity'].fillna(df.groupby('city')['humidity'].transform('mean'))\n"
   ]
  },
  {
   "cell_type": "code",
   "execution_count": 11,
   "id": "a52172be",
   "metadata": {},
   "outputs": [],
   "source": [
    "df['barometer'] = df['barometer'].fillna(df.groupby('city')['barometer'].transform('mean'))\n"
   ]
  },
  {
   "cell_type": "code",
   "execution_count": 12,
   "id": "fe539330",
   "metadata": {},
   "outputs": [
    {
     "data": {
      "text/plain": [
       "city          0\n",
       "year          0\n",
       "month         0\n",
       "day           0\n",
       "hour          0\n",
       "minute        0\n",
       "weather       0\n",
       "temp          0\n",
       "wind          0\n",
       "humidity      0\n",
       "barometer     0\n",
       "visibility    0\n",
       "dtype: int64"
      ]
     },
     "execution_count": 12,
     "metadata": {},
     "output_type": "execute_result"
    }
   ],
   "source": [
    "df.isnull().sum()"
   ]
  },
  {
   "cell_type": "code",
   "execution_count": 13,
   "id": "9ad601d9",
   "metadata": {},
   "outputs": [
    {
     "data": {
      "text/html": [
       "<div>\n",
       "<style scoped>\n",
       "    .dataframe tbody tr th:only-of-type {\n",
       "        vertical-align: middle;\n",
       "    }\n",
       "\n",
       "    .dataframe tbody tr th {\n",
       "        vertical-align: top;\n",
       "    }\n",
       "\n",
       "    .dataframe thead th {\n",
       "        text-align: right;\n",
       "    }\n",
       "</style>\n",
       "<table border=\"1\" class=\"dataframe\">\n",
       "  <thead>\n",
       "    <tr style=\"text-align: right;\">\n",
       "      <th></th>\n",
       "      <th>year</th>\n",
       "      <th>month</th>\n",
       "      <th>day</th>\n",
       "      <th>hour</th>\n",
       "      <th>minute</th>\n",
       "      <th>temp</th>\n",
       "      <th>wind</th>\n",
       "      <th>humidity</th>\n",
       "      <th>barometer</th>\n",
       "      <th>visibility</th>\n",
       "    </tr>\n",
       "  </thead>\n",
       "  <tbody>\n",
       "    <tr>\n",
       "      <th>count</th>\n",
       "      <td>249023.000000</td>\n",
       "      <td>249023.000000</td>\n",
       "      <td>249023.000000</td>\n",
       "      <td>249023.000000</td>\n",
       "      <td>249023.000000</td>\n",
       "      <td>249023.000000</td>\n",
       "      <td>249023.000000</td>\n",
       "      <td>249023.000000</td>\n",
       "      <td>249023.000000</td>\n",
       "      <td>249023.000000</td>\n",
       "    </tr>\n",
       "    <tr>\n",
       "      <th>mean</th>\n",
       "      <td>2017.710007</td>\n",
       "      <td>6.050694</td>\n",
       "      <td>15.691081</td>\n",
       "      <td>12.536890</td>\n",
       "      <td>0.131108</td>\n",
       "      <td>24.722624</td>\n",
       "      <td>12.957104</td>\n",
       "      <td>37.553192</td>\n",
       "      <td>1015.454041</td>\n",
       "      <td>11.053453</td>\n",
       "    </tr>\n",
       "    <tr>\n",
       "      <th>std</th>\n",
       "      <td>0.706113</td>\n",
       "      <td>3.521591</td>\n",
       "      <td>8.787958</td>\n",
       "      <td>6.910254</td>\n",
       "      <td>1.970710</td>\n",
       "      <td>8.880913</td>\n",
       "      <td>8.711619</td>\n",
       "      <td>23.592329</td>\n",
       "      <td>6.970366</td>\n",
       "      <td>7.053005</td>\n",
       "    </tr>\n",
       "    <tr>\n",
       "      <th>min</th>\n",
       "      <td>2017.000000</td>\n",
       "      <td>1.000000</td>\n",
       "      <td>1.000000</td>\n",
       "      <td>1.000000</td>\n",
       "      <td>0.000000</td>\n",
       "      <td>-4.000000</td>\n",
       "      <td>-1.000000</td>\n",
       "      <td>0.000000</td>\n",
       "      <td>904.000000</td>\n",
       "      <td>-1.000000</td>\n",
       "    </tr>\n",
       "    <tr>\n",
       "      <th>25%</th>\n",
       "      <td>2017.000000</td>\n",
       "      <td>3.000000</td>\n",
       "      <td>8.000000</td>\n",
       "      <td>7.000000</td>\n",
       "      <td>0.000000</td>\n",
       "      <td>18.000000</td>\n",
       "      <td>7.000000</td>\n",
       "      <td>17.000000</td>\n",
       "      <td>1011.000000</td>\n",
       "      <td>5.000000</td>\n",
       "    </tr>\n",
       "    <tr>\n",
       "      <th>50%</th>\n",
       "      <td>2018.000000</td>\n",
       "      <td>6.000000</td>\n",
       "      <td>16.000000</td>\n",
       "      <td>13.000000</td>\n",
       "      <td>0.000000</td>\n",
       "      <td>24.000000</td>\n",
       "      <td>11.000000</td>\n",
       "      <td>32.000000</td>\n",
       "      <td>1016.000000</td>\n",
       "      <td>16.000000</td>\n",
       "    </tr>\n",
       "    <tr>\n",
       "      <th>75%</th>\n",
       "      <td>2018.000000</td>\n",
       "      <td>9.000000</td>\n",
       "      <td>23.000000</td>\n",
       "      <td>19.000000</td>\n",
       "      <td>0.000000</td>\n",
       "      <td>31.000000</td>\n",
       "      <td>19.000000</td>\n",
       "      <td>55.000000</td>\n",
       "      <td>1021.000000</td>\n",
       "      <td>16.000000</td>\n",
       "    </tr>\n",
       "    <tr>\n",
       "      <th>max</th>\n",
       "      <td>2019.000000</td>\n",
       "      <td>12.000000</td>\n",
       "      <td>31.000000</td>\n",
       "      <td>24.000000</td>\n",
       "      <td>59.000000</td>\n",
       "      <td>50.000000</td>\n",
       "      <td>163.000000</td>\n",
       "      <td>100.000000</td>\n",
       "      <td>1101.000000</td>\n",
       "      <td>161.000000</td>\n",
       "    </tr>\n",
       "  </tbody>\n",
       "</table>\n",
       "</div>"
      ],
      "text/plain": [
       "                year          month            day           hour  \\\n",
       "count  249023.000000  249023.000000  249023.000000  249023.000000   \n",
       "mean     2017.710007       6.050694      15.691081      12.536890   \n",
       "std         0.706113       3.521591       8.787958       6.910254   \n",
       "min      2017.000000       1.000000       1.000000       1.000000   \n",
       "25%      2017.000000       3.000000       8.000000       7.000000   \n",
       "50%      2018.000000       6.000000      16.000000      13.000000   \n",
       "75%      2018.000000       9.000000      23.000000      19.000000   \n",
       "max      2019.000000      12.000000      31.000000      24.000000   \n",
       "\n",
       "              minute           temp           wind       humidity  \\\n",
       "count  249023.000000  249023.000000  249023.000000  249023.000000   \n",
       "mean        0.131108      24.722624      12.957104      37.553192   \n",
       "std         1.970710       8.880913       8.711619      23.592329   \n",
       "min         0.000000      -4.000000      -1.000000       0.000000   \n",
       "25%         0.000000      18.000000       7.000000      17.000000   \n",
       "50%         0.000000      24.000000      11.000000      32.000000   \n",
       "75%         0.000000      31.000000      19.000000      55.000000   \n",
       "max        59.000000      50.000000     163.000000     100.000000   \n",
       "\n",
       "           barometer     visibility  \n",
       "count  249023.000000  249023.000000  \n",
       "mean     1015.454041      11.053453  \n",
       "std         6.970366       7.053005  \n",
       "min       904.000000      -1.000000  \n",
       "25%      1011.000000       5.000000  \n",
       "50%      1016.000000      16.000000  \n",
       "75%      1021.000000      16.000000  \n",
       "max      1101.000000     161.000000  "
      ]
     },
     "execution_count": 13,
     "metadata": {},
     "output_type": "execute_result"
    }
   ],
   "source": [
    "df.describe()"
   ]
  },
  {
   "cell_type": "code",
   "execution_count": 14,
   "id": "1f595c62",
   "metadata": {},
   "outputs": [],
   "source": [
    "# i considered -1 wind speed is outlier becasue is not make sens we assumed in a wrong entry\n",
    "#(df['wind'] < 0).sum()"
   ]
  },
  {
   "cell_type": "code",
   "execution_count": 15,
   "id": "7a841e87",
   "metadata": {},
   "outputs": [],
   "source": [
    "#df.drop(df[df['wind'] < 0].index, inplace = True)"
   ]
  },
  {
   "cell_type": "markdown",
   "id": "460f46e8",
   "metadata": {},
   "source": [
    "### 2.4 Extract and create the target "
   ]
  },
  {
   "cell_type": "markdown",
   "id": "19075065",
   "metadata": {},
   "source": [
    "it is obvious that `weather` in the dataset represents the weather phenomenas, which are in a text format. and multiple phenomena merged together. Since we are predicting the rain only, So we will extract the keywords `rain` and it's synonyms and placed in a new column shows the result whether is rained or not raind on that day."
   ]
  },
  {
   "cell_type": "markdown",
   "id": "7375cd56",
   "metadata": {},
   "source": [
    "Lets check weather phenomena"
   ]
  },
  {
   "cell_type": "code",
   "execution_count": 16,
   "id": "b1647482",
   "metadata": {},
   "outputs": [
    {
     "data": {
      "text/plain": [
       "array(['Clear ', 'Sunny ', 'Scattered clouds ', 'Partly sunny ',\n",
       "       'Passing clouds ', 'Refreshingly cool ', 'Low level haze ',\n",
       "       'Duststorm ', 'Thunderstorms  Passing clouds ', 'Fog ',\n",
       "       'Thunderstorms  Partly sunny ', 'Light rain  Partly sunny ',\n",
       "       'Dense fog ', 'Thunderstorms  Scattered clouds ',\n",
       "       'Rain  Passing clouds ', 'Extremely hot ', 'Rain  Partly sunny ',\n",
       "       'Pleasantly warm ', 'Hot ', 'Mild ', 'Overcast ',\n",
       "       'Rain  Overcast ', 'Smoke ', 'Thunderstorms  Broken clouds ',\n",
       "       'Heavy rain  Partly sunny ', 'Thunderstorms  Overcast ',\n",
       "       'Light rain  Overcast ', 'Warm ', 'Thunderstorms  Cloudy ',\n",
       "       'Drizzle  Overcast ', 'Thunderstorms  Partly cloudy ',\n",
       "       'Broken clouds ', 'Sandstorm ', 'Partly cloudy ', 'Mostly cloudy ',\n",
       "       'Rain  Partly cloudy ', 'Rain  Broken clouds ',\n",
       "       'Rain  Scattered clouds ', 'Haze ', 'Rain  Mostly cloudy ',\n",
       "       'Hail  Partly sunny ', 'Thundershowers  Passing clouds ',\n",
       "       'Thunderstorms  More clouds than sun ', 'More clouds than sun ',\n",
       "       'Light rain  Partly cloudy ', 'Light rain  Mostly cloudy ',\n",
       "       'Drizzle  Mostly cloudy ', 'Drizzle  Partly sunny ',\n",
       "       'Light rain  Broken clouds ', 'Thunderstorms  Mostly cloudy ',\n",
       "       'Light rain  More clouds than sun ', 'Thunderstorms  Fog ',\n",
       "       'Rain  More clouds than sun ', 'Heavy rain  Mostly cloudy ',\n",
       "       'Heavy rain  More clouds than sun ', 'Light rain  Fog ',\n",
       "       'Strong thunderstorms  More clouds than sun ',\n",
       "       'Light rain  Passing clouds ', 'Cool ',\n",
       "       'Drizzle  More clouds than sun ', 'Drizzle  Fog ',\n",
       "       'Drizzle  Broken clouds ', 'Heavy rain  Overcast ',\n",
       "       'Light rain  Scattered clouds ', 'Cloudy ',\n",
       "       'Strong thunderstorms  Partly sunny ',\n",
       "       'Strong thunderstorms  Cloudy ', 'Hail  Cloudy ',\n",
       "       'Thunderstorms  Sandstorm ', 'Sprinkles  Cloudy ',\n",
       "       'Sprinkles  Overcast ', 'Sprinkles  Duststorm ', 'Rain  Clear ',\n",
       "       'Sprinkles  Low level haze ', 'Thundershowers  Partly sunny ',\n",
       "       'Thundershowers  Scattered clouds ', 'Hail  Passing clouds ',\n",
       "       'Drizzle  Dense fog ', 'Rain showers  Partly sunny ',\n",
       "       'Rain  Sandstorm ', 'Rain  Fog '], dtype=object)"
      ]
     },
     "execution_count": 16,
     "metadata": {},
     "output_type": "execute_result"
    }
   ],
   "source": [
    "df['weather'].unique()"
   ]
  },
  {
   "cell_type": "code",
   "execution_count": 17,
   "id": "b0311adf",
   "metadata": {},
   "outputs": [],
   "source": [
    "# creating the target `rain`\n",
    "df['rain'] = df['weather'].str.contains('rain|shower|thunderstorm|thundershowers', case = False ,regex=True)\n"
   ]
  },
  {
   "cell_type": "code",
   "execution_count": 18,
   "id": "86872d6b",
   "metadata": {},
   "outputs": [
    {
     "data": {
      "text/plain": [
       "weather\n",
       "Light rain  Broken clouds             [True]\n",
       "Light rain  Partly sunny              [True]\n",
       "Rain showers  Partly sunny            [True]\n",
       "Light rain  More clouds than sun      [True]\n",
       "Thunderstorms  Partly sunny           [True]\n",
       "Refreshingly cool                    [False]\n",
       "Thunderstorms  Scattered clouds       [True]\n",
       "Low level haze                       [False]\n",
       "Thundershowers  Partly sunny          [True]\n",
       "Sunny                                [False]\n",
       "Scattered clouds                     [False]\n",
       "Broken clouds                        [False]\n",
       "Heavy rain  More clouds than sun      [True]\n",
       "Thunderstorms  Fog                    [True]\n",
       "Sprinkles  Cloudy                    [False]\n",
       "Light rain  Overcast                  [True]\n",
       "Clear                                [False]\n",
       "Drizzle  Overcast                    [False]\n",
       "Thunderstorms  Overcast               [True]\n",
       "Light rain  Fog                       [True]\n",
       "Name: rain, dtype: object"
      ]
     },
     "execution_count": 18,
     "metadata": {},
     "output_type": "execute_result"
    }
   ],
   "source": [
    "# lets check a sample\n",
    "df.groupby('weather')['rain'].unique().sample(20)"
   ]
  },
  {
   "cell_type": "code",
   "execution_count": 19,
   "id": "7fc70f47",
   "metadata": {},
   "outputs": [
    {
     "data": {
      "text/plain": [
       "False    245696\n",
       "True       3327\n",
       "Name: rain, dtype: int64"
      ]
     },
     "execution_count": 19,
     "metadata": {},
     "output_type": "execute_result"
    }
   ],
   "source": [
    "df['rain'].value_counts()"
   ]
  },
  {
   "cell_type": "markdown",
   "id": "90e6573c",
   "metadata": {},
   "source": [
    "3327 observations was rained and 245696 was not so, data is imbalnced "
   ]
  },
  {
   "cell_type": "code",
   "execution_count": 20,
   "id": "13f2d4c2",
   "metadata": {},
   "outputs": [],
   "source": [
    "# weather not need it and we will use rain as target\n",
    "df.drop('weather', axis =1 , inplace =True)\n"
   ]
  },
  {
   "cell_type": "code",
   "execution_count": 21,
   "id": "ba4950e1",
   "metadata": {},
   "outputs": [],
   "source": [
    "#X = df.drop(['rain'], axis=1)\n",
    "#y = df['rain']"
   ]
  },
  {
   "cell_type": "code",
   "execution_count": 22,
   "id": "9b6f241c",
   "metadata": {},
   "outputs": [],
   "source": [
    "#from imblearn.under_sampling import RandomUnderSampler\n",
    "\n",
    "#rus = RandomUnderSampler(random_state=1)\n",
    "#rus.fit(X, y)\n",
    "#X_resampled, y_resampled = rus.fit_resample(X, y)\n",
    "#df_resampled = pd.concat([X_resampled,y_resampled], axis =1)\n",
    "\n"
   ]
  },
  {
   "cell_type": "markdown",
   "id": "cbfb7dda",
   "metadata": {},
   "source": []
  },
  {
   "cell_type": "code",
   "execution_count": 23,
   "id": "f889f8f0",
   "metadata": {},
   "outputs": [],
   "source": [
    "#df_resampled['rain'].value_counts()"
   ]
  },
  {
   "cell_type": "code",
   "execution_count": 24,
   "id": "4148d785",
   "metadata": {},
   "outputs": [],
   "source": [
    "# checking if all city included in resampled dataframe\n",
    "#len(df['city'].unique()) , len(df_resampled['city'].unique())\n"
   ]
  },
  {
   "cell_type": "code",
   "execution_count": 25,
   "id": "3e8983e5",
   "metadata": {},
   "outputs": [],
   "source": [
    "# # checking if all city included in resampled dataframe\n",
    "#df['year'].unique() , df_resampled['year'].unique()\n"
   ]
  },
  {
   "cell_type": "markdown",
   "id": "ef864285",
   "metadata": {},
   "source": [
    "# 3. EDA"
   ]
  },
  {
   "cell_type": "code",
   "execution_count": 26,
   "id": "67aee59e",
   "metadata": {},
   "outputs": [],
   "source": [
    "#sns.pairplot(df.loc[:,'year':'visibility']);"
   ]
  },
  {
   "cell_type": "markdown",
   "id": "94fa2e59",
   "metadata": {},
   "source": [
    "### 3.1 identify outliers"
   ]
  },
  {
   "cell_type": "code",
   "execution_count": 27,
   "id": "3dcee239",
   "metadata": {},
   "outputs": [
    {
     "data": {
      "text/html": [
       "<div>\n",
       "<style scoped>\n",
       "    .dataframe tbody tr th:only-of-type {\n",
       "        vertical-align: middle;\n",
       "    }\n",
       "\n",
       "    .dataframe tbody tr th {\n",
       "        vertical-align: top;\n",
       "    }\n",
       "\n",
       "    .dataframe thead th {\n",
       "        text-align: right;\n",
       "    }\n",
       "</style>\n",
       "<table border=\"1\" class=\"dataframe\">\n",
       "  <thead>\n",
       "    <tr style=\"text-align: right;\">\n",
       "      <th></th>\n",
       "      <th>temp</th>\n",
       "      <th>wind</th>\n",
       "      <th>humidity</th>\n",
       "      <th>barometer</th>\n",
       "      <th>visibility</th>\n",
       "    </tr>\n",
       "  </thead>\n",
       "  <tbody>\n",
       "    <tr>\n",
       "      <th>count</th>\n",
       "      <td>249023.000000</td>\n",
       "      <td>249023.000000</td>\n",
       "      <td>249023.000000</td>\n",
       "      <td>249023.000000</td>\n",
       "      <td>249023.000000</td>\n",
       "    </tr>\n",
       "    <tr>\n",
       "      <th>mean</th>\n",
       "      <td>24.722624</td>\n",
       "      <td>12.957104</td>\n",
       "      <td>37.553192</td>\n",
       "      <td>1015.454041</td>\n",
       "      <td>11.053453</td>\n",
       "    </tr>\n",
       "    <tr>\n",
       "      <th>std</th>\n",
       "      <td>8.880913</td>\n",
       "      <td>8.711619</td>\n",
       "      <td>23.592329</td>\n",
       "      <td>6.970366</td>\n",
       "      <td>7.053005</td>\n",
       "    </tr>\n",
       "    <tr>\n",
       "      <th>min</th>\n",
       "      <td>-4.000000</td>\n",
       "      <td>-1.000000</td>\n",
       "      <td>0.000000</td>\n",
       "      <td>904.000000</td>\n",
       "      <td>-1.000000</td>\n",
       "    </tr>\n",
       "    <tr>\n",
       "      <th>25%</th>\n",
       "      <td>18.000000</td>\n",
       "      <td>7.000000</td>\n",
       "      <td>17.000000</td>\n",
       "      <td>1011.000000</td>\n",
       "      <td>5.000000</td>\n",
       "    </tr>\n",
       "    <tr>\n",
       "      <th>50%</th>\n",
       "      <td>24.000000</td>\n",
       "      <td>11.000000</td>\n",
       "      <td>32.000000</td>\n",
       "      <td>1016.000000</td>\n",
       "      <td>16.000000</td>\n",
       "    </tr>\n",
       "    <tr>\n",
       "      <th>75%</th>\n",
       "      <td>31.000000</td>\n",
       "      <td>19.000000</td>\n",
       "      <td>55.000000</td>\n",
       "      <td>1021.000000</td>\n",
       "      <td>16.000000</td>\n",
       "    </tr>\n",
       "    <tr>\n",
       "      <th>max</th>\n",
       "      <td>50.000000</td>\n",
       "      <td>163.000000</td>\n",
       "      <td>100.000000</td>\n",
       "      <td>1101.000000</td>\n",
       "      <td>161.000000</td>\n",
       "    </tr>\n",
       "  </tbody>\n",
       "</table>\n",
       "</div>"
      ],
      "text/plain": [
       "                temp           wind       humidity      barometer  \\\n",
       "count  249023.000000  249023.000000  249023.000000  249023.000000   \n",
       "mean       24.722624      12.957104      37.553192    1015.454041   \n",
       "std         8.880913       8.711619      23.592329       6.970366   \n",
       "min        -4.000000      -1.000000       0.000000     904.000000   \n",
       "25%        18.000000       7.000000      17.000000    1011.000000   \n",
       "50%        24.000000      11.000000      32.000000    1016.000000   \n",
       "75%        31.000000      19.000000      55.000000    1021.000000   \n",
       "max        50.000000     163.000000     100.000000    1101.000000   \n",
       "\n",
       "          visibility  \n",
       "count  249023.000000  \n",
       "mean       11.053453  \n",
       "std         7.053005  \n",
       "min        -1.000000  \n",
       "25%         5.000000  \n",
       "50%        16.000000  \n",
       "75%        16.000000  \n",
       "max       161.000000  "
      ]
     },
     "execution_count": 27,
     "metadata": {},
     "output_type": "execute_result"
    }
   ],
   "source": [
    "df.loc[:,'temp':'visibility'].describe()"
   ]
  },
  {
   "cell_type": "code",
   "execution_count": 28,
   "id": "ff8af4c8",
   "metadata": {},
   "outputs": [
    {
     "data": {
      "image/png": "[encoded data removed]",
      "text/plain": [
       "<Figure size 1080x216 with 2 Axes>"
      ]
     },
     "metadata": {
      "needs_background": "light"
     },
     "output_type": "display_data"
    },
    {
     "data": {
      "image/png": "[encoded data removed]",
      "text/plain": [
       "<Figure size 1080x216 with 2 Axes>"
      ]
     },
     "metadata": {
      "needs_background": "light"
     },
     "output_type": "display_data"
    },
    {
     "data": {
      "image/png": "[encoded data removed]",
      "text/plain": [
       "<Figure size 1080x216 with 2 Axes>"
      ]
     },
     "metadata": {
      "needs_background": "light"
     },
     "output_type": "display_data"
    },
    {
     "data": {
      "image/png": "[encoded data removed]",
      "text/plain": [
       "<Figure size 1080x216 with 2 Axes>"
      ]
     },
     "metadata": {
      "needs_background": "light"
     },
     "output_type": "display_data"
    },
    {
     "data": {
      "image/png": "[encoded data removed]",
      "text/plain": [
       "<Figure size 1080x216 with 2 Axes>"
      ]
     },
     "metadata": {
      "needs_background": "light"
     },
     "output_type": "display_data"
    }
   ],
   "source": [
    "num_cols=df.loc[:,['temp','wind','humidity','barometer','visibility']].select_dtypes(include=['int64','float64']).columns.tolist() # a revised list of numerical features  \n",
    "\n",
    "for i in num_cols:\n",
    "   \n",
    "    fig, axs = plt.subplots(1,2,figsize=(15, 3))\n",
    "\n",
    "    sns.histplot(df[i],bins=20, kde=True,ax=axs[0]);\n",
    "    sns.boxplot(x= df[i], ax = axs[1], color='#99befd', fliersize=1);\n",
    "    \n",
    "    axs[0].axvline(df[i].mean(), color='r', linewidth=2, linestyle='--', label='Mean')\n",
    "    axs[0].legend()"
   ]
  },
  {
   "cell_type": "markdown",
   "id": "d43fbb0e",
   "metadata": {},
   "source": [
    "#### We can see that too many outliers on `wind`, and few on `temp`, `visibility`, `barometer` and shows skewed distribution. So, I will use interquantile range to find outliers."
   ]
  },
  {
   "cell_type": "code",
   "execution_count": 29,
   "id": "7d38362f",
   "metadata": {},
   "outputs": [
    {
     "name": "stdout",
     "output_type": "stream",
     "text": [
      "temp  outliers are values < -1.5 or > 50.5\n",
      "wind  outliers are values < -11.0 or > 37.0\n",
      "humidity  outliers are values < -40.0 or > 112.0\n",
      "barometer  outliers are values < 996.0 or > 1036.0\n",
      "visibility  outliers are values < -11.5 or > 32.5\n"
     ]
    }
   ],
   "source": [
    "# find outliers for temp variable\n",
    "columns = df.loc[:,'temp':'visibility'].columns\n",
    "\n",
    "\n",
    "for f in columns:\n",
    "    IQR = df[f].quantile(0.75) - df[f].quantile(0.25)\n",
    "    Lower_fence = df[f].quantile(0.25) - (IQR * 1.5)\n",
    "    Upper_fence = df[f].quantile(0.75) + (IQR * 1.5)\n",
    "    print(f,' outliers are values < {lowerboundary} or > {upperboundary}'.format(lowerboundary=Lower_fence, upperboundary=Upper_fence))\n"
   ]
  },
  {
   "cell_type": "code",
   "execution_count": 30,
   "id": "a8368e4c",
   "metadata": {},
   "outputs": [
    {
     "data": {
      "text/plain": [
       "109"
      ]
     },
     "execution_count": 30,
     "metadata": {},
     "output_type": "execute_result"
    }
   ],
   "source": [
    "(df['wind'] < 0).sum()"
   ]
  },
  {
   "cell_type": "code",
   "execution_count": null,
   "id": "58e9d790",
   "metadata": {},
   "outputs": [],
   "source": [
    "\n",
    "\n"
   ]
  },
  {
   "cell_type": "code",
   "execution_count": null,
   "id": "c71c0b0f",
   "metadata": {},
   "outputs": [],
   "source": []
  }
 ],
 "metadata": {
  "kernelspec": {
   "display_name": "Python 3 (ipykernel)",
   "language": "python",
   "name": "python3"
  },
  "language_info": {
   "codemirror_mode": {
    "name": "ipython",
    "version": 3
   },
   "file_extension": ".py",
   "mimetype": "text/x-python",
   "name": "python",
   "nbconvert_exporter": "python",
   "pygments_lexer": "ipython3",
   "version": "3.9.7"
  }
 },
 "nbformat": 4,
 "nbformat_minor": 5
}
