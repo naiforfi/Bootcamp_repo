{
 "cells": [
  {
   "cell_type": "code",
   "execution_count": 1,
   "id": "6a7e6507",
   "metadata": {},
   "outputs": [],
   "source": [
    "import pandas as pd\n",
    "import numpy as np\n",
    "import matplotlib as plt\n",
    "import seaborn as sns\n",
    "from datetime import timedelta\n"
   ]
  },
  {
   "cell_type": "code",
   "execution_count": 2,
   "id": "f585b01e",
   "metadata": {},
   "outputs": [
    {
     "data": {
      "text/plain": [
       "(249023, 15)"
      ]
     },
     "execution_count": 2,
     "metadata": {},
     "output_type": "execute_result"
    }
   ],
   "source": [
    "data = pd.read_csv('dataset/weather-sa-2017-2019-clean.csv')\n",
    "data.shape"
   ]
  },
  {
   "cell_type": "code",
   "execution_count": 3,
   "id": "5a113d7a",
   "metadata": {},
   "outputs": [
    {
     "data": {
      "text/html": [
       "<div>\n",
       "<style scoped>\n",
       "    .dataframe tbody tr th:only-of-type {\n",
       "        vertical-align: middle;\n",
       "    }\n",
       "\n",
       "    .dataframe tbody tr th {\n",
       "        vertical-align: top;\n",
       "    }\n",
       "\n",
       "    .dataframe thead th {\n",
       "        text-align: right;\n",
       "    }\n",
       "</style>\n",
       "<table border=\"1\" class=\"dataframe\">\n",
       "  <thead>\n",
       "    <tr style=\"text-align: right;\">\n",
       "      <th></th>\n",
       "      <th>Unnamed: 0</th>\n",
       "      <th>city</th>\n",
       "      <th>date</th>\n",
       "      <th>time</th>\n",
       "      <th>year</th>\n",
       "      <th>month</th>\n",
       "      <th>day</th>\n",
       "      <th>hour</th>\n",
       "      <th>minute</th>\n",
       "      <th>weather</th>\n",
       "      <th>temp</th>\n",
       "      <th>wind</th>\n",
       "      <th>humidity</th>\n",
       "      <th>barometer</th>\n",
       "      <th>visibility</th>\n",
       "    </tr>\n",
       "  </thead>\n",
       "  <tbody>\n",
       "    <tr>\n",
       "      <th>0</th>\n",
       "      <td>0</td>\n",
       "      <td>Qassim</td>\n",
       "      <td>1 January 2017</td>\n",
       "      <td>00:00</td>\n",
       "      <td>2017</td>\n",
       "      <td>1</td>\n",
       "      <td>1</td>\n",
       "      <td>24</td>\n",
       "      <td>0</td>\n",
       "      <td>Clear</td>\n",
       "      <td>17</td>\n",
       "      <td>11</td>\n",
       "      <td>64%</td>\n",
       "      <td>1018.0</td>\n",
       "      <td>16</td>\n",
       "    </tr>\n",
       "    <tr>\n",
       "      <th>1</th>\n",
       "      <td>1</td>\n",
       "      <td>Qassim</td>\n",
       "      <td>1 January 2017</td>\n",
       "      <td>01:00</td>\n",
       "      <td>2017</td>\n",
       "      <td>1</td>\n",
       "      <td>1</td>\n",
       "      <td>1</td>\n",
       "      <td>0</td>\n",
       "      <td>Clear</td>\n",
       "      <td>17</td>\n",
       "      <td>6</td>\n",
       "      <td>64%</td>\n",
       "      <td>1018.0</td>\n",
       "      <td>16</td>\n",
       "    </tr>\n",
       "  </tbody>\n",
       "</table>\n",
       "</div>"
      ],
      "text/plain": [
       "   Unnamed: 0    city            date   time  year  month  day  hour  minute  \\\n",
       "0           0  Qassim  1 January 2017  00:00  2017      1    1    24       0   \n",
       "1           1  Qassim  1 January 2017  01:00  2017      1    1     1       0   \n",
       "\n",
       "  weather  temp  wind humidity  barometer  visibility  \n",
       "0  Clear     17    11      64%     1018.0          16  \n",
       "1  Clear     17     6      64%     1018.0          16  "
      ]
     },
     "execution_count": 3,
     "metadata": {},
     "output_type": "execute_result"
    }
   ],
   "source": [
    "data.head(2)"
   ]
  },
  {
   "cell_type": "code",
   "execution_count": 4,
   "id": "0a8e6705",
   "metadata": {},
   "outputs": [
    {
     "name": "stdout",
     "output_type": "stream",
     "text": [
      "<class 'pandas.core.frame.DataFrame'>\n",
      "RangeIndex: 249023 entries, 0 to 249022\n",
      "Data columns (total 15 columns):\n",
      " #   Column      Non-Null Count   Dtype  \n",
      "---  ------      --------------   -----  \n",
      " 0   Unnamed: 0  249023 non-null  int64  \n",
      " 1   city        249023 non-null  object \n",
      " 2   date        249023 non-null  object \n",
      " 3   time        249023 non-null  object \n",
      " 4   year        249023 non-null  int64  \n",
      " 5   month       249023 non-null  int64  \n",
      " 6   day         249023 non-null  int64  \n",
      " 7   hour        249023 non-null  int64  \n",
      " 8   minute      249023 non-null  int64  \n",
      " 9   weather     249023 non-null  object \n",
      " 10  temp        249023 non-null  int64  \n",
      " 11  wind        249023 non-null  int64  \n",
      " 12  humidity    249006 non-null  object \n",
      " 13  barometer   248951 non-null  float64\n",
      " 14  visibility  249023 non-null  int64  \n",
      "dtypes: float64(1), int64(9), object(5)\n",
      "memory usage: 28.5+ MB\n"
     ]
    }
   ],
   "source": [
    "data.info()\n"
   ]
  },
  {
   "cell_type": "code",
   "execution_count": 5,
   "id": "72dc6d73",
   "metadata": {},
   "outputs": [],
   "source": [
    "data['date'] = pd.to_datetime(data[\"date\"])"
   ]
  },
  {
   "cell_type": "code",
   "execution_count": 6,
   "id": "ddc86ba9",
   "metadata": {},
   "outputs": [
    {
     "name": "stdout",
     "output_type": "stream",
     "text": [
      "<class 'pandas.core.frame.DataFrame'>\n",
      "RangeIndex: 249023 entries, 0 to 249022\n",
      "Data columns (total 15 columns):\n",
      " #   Column      Non-Null Count   Dtype         \n",
      "---  ------      --------------   -----         \n",
      " 0   Unnamed: 0  249023 non-null  int64         \n",
      " 1   city        249023 non-null  object        \n",
      " 2   date        249023 non-null  datetime64[ns]\n",
      " 3   time        249023 non-null  object        \n",
      " 4   year        249023 non-null  int64         \n",
      " 5   month       249023 non-null  int64         \n",
      " 6   day         249023 non-null  int64         \n",
      " 7   hour        249023 non-null  int64         \n",
      " 8   minute      249023 non-null  int64         \n",
      " 9   weather     249023 non-null  object        \n",
      " 10  temp        249023 non-null  int64         \n",
      " 11  wind        249023 non-null  int64         \n",
      " 12  humidity    249006 non-null  object        \n",
      " 13  barometer   248951 non-null  float64       \n",
      " 14  visibility  249023 non-null  int64         \n",
      "dtypes: datetime64[ns](1), float64(1), int64(9), object(4)\n",
      "memory usage: 28.5+ MB\n"
     ]
    }
   ],
   "source": [
    "data.info()"
   ]
  },
  {
   "cell_type": "code",
   "execution_count": null,
   "id": "a064ec2c",
   "metadata": {},
   "outputs": [],
   "source": []
  },
  {
   "cell_type": "code",
   "execution_count": null,
   "id": "1c770ecd",
   "metadata": {},
   "outputs": [],
   "source": []
  },
  {
   "cell_type": "code",
   "execution_count": 7,
   "id": "3afae09c",
   "metadata": {},
   "outputs": [
    {
     "data": {
      "text/plain": [
       "array(['Clear ', 'Sunny ', 'Scattered clouds ', 'Partly sunny ',\n",
       "       'Passing clouds ', 'Refreshingly cool ', 'Low level haze ',\n",
       "       'Duststorm ', 'Thunderstorms  Passing clouds ', 'Fog ',\n",
       "       'Thunderstorms  Partly sunny ', 'Light rain  Partly sunny ',\n",
       "       'Dense fog ', 'Thunderstorms  Scattered clouds ',\n",
       "       'Rain  Passing clouds ', 'Extremely hot ', 'Rain  Partly sunny ',\n",
       "       'Pleasantly warm ', 'Hot ', 'Mild ', 'Overcast ',\n",
       "       'Rain  Overcast ', 'Smoke ', 'Thunderstorms  Broken clouds ',\n",
       "       'Heavy rain  Partly sunny ', 'Thunderstorms  Overcast ',\n",
       "       'Light rain  Overcast ', 'Warm ', 'Thunderstorms  Cloudy ',\n",
       "       'Drizzle  Overcast ', 'Thunderstorms  Partly cloudy ',\n",
       "       'Broken clouds ', 'Sandstorm ', 'Partly cloudy ', 'Mostly cloudy ',\n",
       "       'Rain  Partly cloudy ', 'Rain  Broken clouds ',\n",
       "       'Rain  Scattered clouds ', 'Haze ', 'Rain  Mostly cloudy ',\n",
       "       'Hail  Partly sunny ', 'Thundershowers  Passing clouds ',\n",
       "       'Thunderstorms  More clouds than sun ', 'More clouds than sun ',\n",
       "       'Light rain  Partly cloudy ', 'Light rain  Mostly cloudy ',\n",
       "       'Drizzle  Mostly cloudy ', 'Drizzle  Partly sunny ',\n",
       "       'Light rain  Broken clouds ', 'Thunderstorms  Mostly cloudy ',\n",
       "       'Light rain  More clouds than sun ', 'Thunderstorms  Fog ',\n",
       "       'Rain  More clouds than sun ', 'Heavy rain  Mostly cloudy ',\n",
       "       'Heavy rain  More clouds than sun ', 'Light rain  Fog ',\n",
       "       'Strong thunderstorms  More clouds than sun ',\n",
       "       'Light rain  Passing clouds ', 'Cool ',\n",
       "       'Drizzle  More clouds than sun ', 'Drizzle  Fog ',\n",
       "       'Drizzle  Broken clouds ', 'Heavy rain  Overcast ',\n",
       "       'Light rain  Scattered clouds ', 'Cloudy ',\n",
       "       'Strong thunderstorms  Partly sunny ',\n",
       "       'Strong thunderstorms  Cloudy ', 'Hail  Cloudy ',\n",
       "       'Thunderstorms  Sandstorm ', 'Sprinkles  Cloudy ',\n",
       "       'Sprinkles  Overcast ', 'Sprinkles  Duststorm ', 'Rain  Clear ',\n",
       "       'Sprinkles  Low level haze ', 'Thundershowers  Partly sunny ',\n",
       "       'Thundershowers  Scattered clouds ', 'Hail  Passing clouds ',\n",
       "       'Drizzle  Dense fog ', 'Rain showers  Partly sunny ',\n",
       "       'Rain  Sandstorm ', 'Rain  Fog '], dtype=object)"
      ]
     },
     "execution_count": 7,
     "metadata": {},
     "output_type": "execute_result"
    }
   ],
   "source": [
    "data['weather'].unique()"
   ]
  },
  {
   "cell_type": "code",
   "execution_count": 8,
   "id": "811ecad7",
   "metadata": {},
   "outputs": [],
   "source": [
    "import re\n",
    "\n"
   ]
  },
  {
   "cell_type": "code",
   "execution_count": 9,
   "id": "4e9fda9b",
   "metadata": {},
   "outputs": [],
   "source": [
    "data['Rain'] = data['weather'].str.contains('Rain|shower|sprinkle', case = False ,regex=True)\n"
   ]
  },
  {
   "cell_type": "code",
   "execution_count": 10,
   "id": "16700e05",
   "metadata": {},
   "outputs": [
    {
     "data": {
      "text/plain": [
       "False    248124\n",
       "True        899\n",
       "Name: Rain, dtype: int64"
      ]
     },
     "execution_count": 10,
     "metadata": {},
     "output_type": "execute_result"
    }
   ],
   "source": [
    "data['Rain'].value_counts()\n"
   ]
  },
  {
   "cell_type": "code",
   "execution_count": null,
   "id": "c1dfd2af",
   "metadata": {},
   "outputs": [],
   "source": []
  },
  {
   "cell_type": "code",
   "execution_count": null,
   "id": "5b9349a0",
   "metadata": {},
   "outputs": [],
   "source": []
  }
 ],
 "metadata": {
  "kernelspec": {
   "display_name": "Python 3 (ipykernel)",
   "language": "python",
   "name": "python3"
  },
  "language_info": {
   "codemirror_mode": {
    "name": "ipython",
    "version": 3
   },
   "file_extension": ".py",
   "mimetype": "text/x-python",
   "name": "python",
   "nbconvert_exporter": "python",
   "pygments_lexer": "ipython3",
   "version": "3.9.7"
  }
 },
 "nbformat": 4,
 "nbformat_minor": 5
}
